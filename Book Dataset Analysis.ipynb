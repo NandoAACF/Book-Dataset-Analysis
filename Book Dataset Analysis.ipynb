{
 "cells": [
  {
   "cell_type": "markdown",
   "id": "e4697ac3",
   "metadata": {},
   "source": [
    "# Insight yang ingin kita cari:\n",
    "### 1. Buku apa yang memiliki jumlah review terbanyak?\n",
    "### 2. Siapa publisher dan author yang terpopuler?\n",
    "### 3. Bahasa apa yang paling sering digunakan?\n",
    "### 4. Statistika jumlah halaman buku\n",
    "### 5. Statistika harga buku\n",
    "### 6. Bagaimana korelasi antara jumlah halaman buku dengan harga buku?\n",
    "### 7. Bagaimana persebaran rating buku?"
   ]
  },
  {
   "cell_type": "code",
   "execution_count": 1,
   "id": "9dd03cf1",
   "metadata": {},
   "outputs": [],
   "source": [
    "# Import library yang dibutuhkan\n",
    "\n",
    "import pandas as pd\n",
    "import pandas_profiling as pp\n",
    "import plotly.express as px\n",
    "import numpy as np\n",
    "import seaborn as sns\n",
    "import statistics as sts\n",
    "import sys\n",
    "from matplotlib import pyplot as plt\n",
    "from wordcloud import WordCloud, STOPWORDS\n",
    "from collections import Counter\n",
    "import nltk\n",
    "from nltk.corpus import stopwords\n",
    "%matplotlib inline\n",
    "import matplotlib\n",
    "matplotlib.rcParams[\"figure.figsize\"] = (20,10)"
   ]
  },
  {
   "cell_type": "code",
   "execution_count": 2,
   "id": "070689b2",
   "metadata": {},
   "outputs": [
    {
     "data": {
      "text/html": [
       "<div>\n",
       "<style scoped>\n",
       "    .dataframe tbody tr th:only-of-type {\n",
       "        vertical-align: middle;\n",
       "    }\n",
       "\n",
       "    .dataframe tbody tr th {\n",
       "        vertical-align: top;\n",
       "    }\n",
       "\n",
       "    .dataframe thead th {\n",
       "        text-align: right;\n",
       "    }\n",
       "</style>\n",
       "<table border=\"1\" class=\"dataframe\">\n",
       "  <thead>\n",
       "    <tr style=\"text-align: right;\">\n",
       "      <th></th>\n",
       "      <th>title</th>\n",
       "      <th>author</th>\n",
       "      <th>price</th>\n",
       "      <th>pages</th>\n",
       "      <th>avg_reviews</th>\n",
       "      <th>n_reviews</th>\n",
       "      <th>star5</th>\n",
       "      <th>star4</th>\n",
       "      <th>star3</th>\n",
       "      <th>star2</th>\n",
       "      <th>star1</th>\n",
       "      <th>dimensions</th>\n",
       "      <th>weight</th>\n",
       "      <th>language</th>\n",
       "      <th>publisher</th>\n",
       "      <th>ISBN_13</th>\n",
       "      <th>link</th>\n",
       "      <th>complete_link</th>\n",
       "    </tr>\n",
       "  </thead>\n",
       "  <tbody>\n",
       "    <tr>\n",
       "      <th>0</th>\n",
       "      <td>Becoming a Data Head: How to Think Speak and U...</td>\n",
       "      <td>[Alex J. Gutman,Jordan Goldmeier]</td>\n",
       "      <td>24.49</td>\n",
       "      <td>272.0</td>\n",
       "      <td>4.6</td>\n",
       "      <td>184</td>\n",
       "      <td>0.74</td>\n",
       "      <td>0.18</td>\n",
       "      <td>0.05</td>\n",
       "      <td>0.02</td>\n",
       "      <td>0.01</td>\n",
       "      <td>6 x 0.62 x 9 inches</td>\n",
       "      <td>12.5 ounces</td>\n",
       "      <td>English</td>\n",
       "      <td>Wiley; 1st edition (April 23 2021)</td>\n",
       "      <td>978-1119741749</td>\n",
       "      <td>/Becoming-Data-Head-Understand-Statistics/dp/1...</td>\n",
       "      <td>https://www.amazon.com/Becoming-Data-Head-Unde...</td>\n",
       "    </tr>\n",
       "    <tr>\n",
       "      <th>1</th>\n",
       "      <td>Ace the Data Science Interview: 201 Real Inter...</td>\n",
       "      <td>[Nick Singh,Kevin Huo]</td>\n",
       "      <td>26.00</td>\n",
       "      <td>301.0</td>\n",
       "      <td>4.5</td>\n",
       "      <td>599</td>\n",
       "      <td>0.77</td>\n",
       "      <td>0.10</td>\n",
       "      <td>0.06</td>\n",
       "      <td>0.03</td>\n",
       "      <td>0.04</td>\n",
       "      <td>7 x 0.68 x 10 inches</td>\n",
       "      <td>1.28 pounds</td>\n",
       "      <td>English</td>\n",
       "      <td>Ace the Data Science Interview (August 16 2021)</td>\n",
       "      <td>978-0578973838</td>\n",
       "      <td>/Ace-Data-Science-Interview-Questions/dp/05789...</td>\n",
       "      <td>https://www.amazon.com/Ace-Data-Science-Interv...</td>\n",
       "    </tr>\n",
       "    <tr>\n",
       "      <th>2</th>\n",
       "      <td>Fundamentals of Data Engineering: Plan and Bui...</td>\n",
       "      <td>[Joe Reis,Matt Housley]</td>\n",
       "      <td>50.76</td>\n",
       "      <td>446.0</td>\n",
       "      <td>5.0</td>\n",
       "      <td>33</td>\n",
       "      <td>0.96</td>\n",
       "      <td>0.04</td>\n",
       "      <td>0.00</td>\n",
       "      <td>0.00</td>\n",
       "      <td>0.00</td>\n",
       "      <td>7 x 1 x 9.25 inches</td>\n",
       "      <td>1.57 pounds</td>\n",
       "      <td>English</td>\n",
       "      <td>OReilly Media; 1st edition (July 26 2022)</td>\n",
       "      <td>978-1098108304</td>\n",
       "      <td>/Fundamentals-Data-Engineering-Robust-Systems/...</td>\n",
       "      <td>https://www.amazon.com/Fundamentals-Data-Engin...</td>\n",
       "    </tr>\n",
       "    <tr>\n",
       "      <th>3</th>\n",
       "      <td>Essential Math for Data Science: Take Control ...</td>\n",
       "      <td>[Thomas Nield]</td>\n",
       "      <td>44.80</td>\n",
       "      <td>347.0</td>\n",
       "      <td>4.5</td>\n",
       "      <td>27</td>\n",
       "      <td>0.79</td>\n",
       "      <td>0.05</td>\n",
       "      <td>0.05</td>\n",
       "      <td>0.05</td>\n",
       "      <td>0.05</td>\n",
       "      <td>7 x 0.75 x 9 inches</td>\n",
       "      <td>1.23 pounds</td>\n",
       "      <td>English</td>\n",
       "      <td>OReilly Media; 1st edition (July 5 2022)</td>\n",
       "      <td>978-1098102937</td>\n",
       "      <td>/Essential-Math-Data-Science-Fundamental/dp/10...</td>\n",
       "      <td>https://www.amazon.com/Essential-Math-Data-Sci...</td>\n",
       "    </tr>\n",
       "    <tr>\n",
       "      <th>4</th>\n",
       "      <td>Data Science for Business: What You Need to Kn...</td>\n",
       "      <td>[Foster Provost,Tom Fawcett]</td>\n",
       "      <td>36.99</td>\n",
       "      <td>413.0</td>\n",
       "      <td>4.5</td>\n",
       "      <td>970</td>\n",
       "      <td>0.71</td>\n",
       "      <td>0.15</td>\n",
       "      <td>0.08</td>\n",
       "      <td>0.03</td>\n",
       "      <td>0.03</td>\n",
       "      <td>7 x 0.9 x 9.19 inches</td>\n",
       "      <td>1.5 pounds</td>\n",
       "      <td>English</td>\n",
       "      <td>OReilly Media; 1st edition (September 17 2013)</td>\n",
       "      <td>978-1449361327</td>\n",
       "      <td>/Data-Science-Business-Data-Analytic-Thinking/...</td>\n",
       "      <td>https://www.amazon.com/Data-Science-Business-D...</td>\n",
       "    </tr>\n",
       "    <tr>\n",
       "      <th>5</th>\n",
       "      <td>Data Science from Scratch: First Principles wi...</td>\n",
       "      <td>[Joel Grus]</td>\n",
       "      <td>45.22</td>\n",
       "      <td>406.0</td>\n",
       "      <td>4.4</td>\n",
       "      <td>594</td>\n",
       "      <td>0.65</td>\n",
       "      <td>0.19</td>\n",
       "      <td>0.08</td>\n",
       "      <td>0.04</td>\n",
       "      <td>0.04</td>\n",
       "      <td>6.9 x 0.9 x 9.1 inches</td>\n",
       "      <td>1.4 pounds</td>\n",
       "      <td>English</td>\n",
       "      <td>OReilly Media; 2nd edition (May 16 2019)</td>\n",
       "      <td>978-1492041139</td>\n",
       "      <td>/Data-Science-Scratch-Principles-Python/dp/149...</td>\n",
       "      <td>https://www.amazon.com/Data-Science-Scratch-Pr...</td>\n",
       "    </tr>\n",
       "  </tbody>\n",
       "</table>\n",
       "</div>"
      ],
      "text/plain": [
       "                                               title  \\\n",
       "0  Becoming a Data Head: How to Think Speak and U...   \n",
       "1  Ace the Data Science Interview: 201 Real Inter...   \n",
       "2  Fundamentals of Data Engineering: Plan and Bui...   \n",
       "3  Essential Math for Data Science: Take Control ...   \n",
       "4  Data Science for Business: What You Need to Kn...   \n",
       "5  Data Science from Scratch: First Principles wi...   \n",
       "\n",
       "                              author  price  pages  avg_reviews  n_reviews  \\\n",
       "0  [Alex J. Gutman,Jordan Goldmeier]  24.49  272.0          4.6        184   \n",
       "1             [Nick Singh,Kevin Huo]  26.00  301.0          4.5        599   \n",
       "2            [Joe Reis,Matt Housley]  50.76  446.0          5.0         33   \n",
       "3                     [Thomas Nield]  44.80  347.0          4.5         27   \n",
       "4       [Foster Provost,Tom Fawcett]  36.99  413.0          4.5        970   \n",
       "5                        [Joel Grus]  45.22  406.0          4.4        594   \n",
       "\n",
       "   star5  star4  star3  star2  star1              dimensions       weight  \\\n",
       "0   0.74   0.18   0.05   0.02   0.01     6 x 0.62 x 9 inches  12.5 ounces   \n",
       "1   0.77   0.10   0.06   0.03   0.04    7 x 0.68 x 10 inches  1.28 pounds   \n",
       "2   0.96   0.04   0.00   0.00   0.00     7 x 1 x 9.25 inches  1.57 pounds   \n",
       "3   0.79   0.05   0.05   0.05   0.05     7 x 0.75 x 9 inches  1.23 pounds   \n",
       "4   0.71   0.15   0.08   0.03   0.03   7 x 0.9 x 9.19 inches   1.5 pounds   \n",
       "5   0.65   0.19   0.08   0.04   0.04  6.9 x 0.9 x 9.1 inches   1.4 pounds   \n",
       "\n",
       "  language                                        publisher         ISBN_13  \\\n",
       "0  English               Wiley; 1st edition (April 23 2021)  978-1119741749   \n",
       "1  English  Ace the Data Science Interview (August 16 2021)  978-0578973838   \n",
       "2  English        OReilly Media; 1st edition (July 26 2022)  978-1098108304   \n",
       "3  English         OReilly Media; 1st edition (July 5 2022)  978-1098102937   \n",
       "4  English   OReilly Media; 1st edition (September 17 2013)  978-1449361327   \n",
       "5  English         OReilly Media; 2nd edition (May 16 2019)  978-1492041139   \n",
       "\n",
       "                                                link  \\\n",
       "0  /Becoming-Data-Head-Understand-Statistics/dp/1...   \n",
       "1  /Ace-Data-Science-Interview-Questions/dp/05789...   \n",
       "2  /Fundamentals-Data-Engineering-Robust-Systems/...   \n",
       "3  /Essential-Math-Data-Science-Fundamental/dp/10...   \n",
       "4  /Data-Science-Business-Data-Analytic-Thinking/...   \n",
       "5  /Data-Science-Scratch-Principles-Python/dp/149...   \n",
       "\n",
       "                                       complete_link  \n",
       "0  https://www.amazon.com/Becoming-Data-Head-Unde...  \n",
       "1  https://www.amazon.com/Ace-Data-Science-Interv...  \n",
       "2  https://www.amazon.com/Fundamentals-Data-Engin...  \n",
       "3  https://www.amazon.com/Essential-Math-Data-Sci...  \n",
       "4  https://www.amazon.com/Data-Science-Business-D...  \n",
       "5  https://www.amazon.com/Data-Science-Scratch-Pr...  "
      ]
     },
     "execution_count": 2,
     "metadata": {},
     "output_type": "execute_result"
    }
   ],
   "source": [
    "# Membaca data dari final_book_dataset_kaggle.csv\n",
    "\n",
    "df = pd.read_csv(\"final_book_dataset_kaggle.csv\")\n",
    "df.head(6)"
   ]
  },
  {
   "cell_type": "code",
   "execution_count": 3,
   "id": "4a9f36da",
   "metadata": {},
   "outputs": [
    {
     "data": {
      "text/plain": [
       "title              0\n",
       "author           122\n",
       "price              2\n",
       "pages             12\n",
       "avg_reviews      123\n",
       "n_reviews          0\n",
       "star5              0\n",
       "star4              0\n",
       "star3              0\n",
       "star2              0\n",
       "star1              0\n",
       "dimensions        32\n",
       "weight             3\n",
       "language           3\n",
       "publisher          4\n",
       "ISBN_13            1\n",
       "link               0\n",
       "complete_link      0\n",
       "dtype: int64"
      ]
     },
     "execution_count": 3,
     "metadata": {},
     "output_type": "execute_result"
    }
   ],
   "source": [
    "# Mengecek jumlah data yang NaN\n",
    "\n",
    "df.isnull().sum()"
   ]
  },
  {
   "cell_type": "code",
   "execution_count": 4,
   "id": "124694fe",
   "metadata": {},
   "outputs": [],
   "source": [
    "df.dropna(inplace = True)"
   ]
  },
  {
   "cell_type": "code",
   "execution_count": 5,
   "id": "8740ad2d",
   "metadata": {},
   "outputs": [
    {
     "data": {
      "text/plain": [
       "title            0\n",
       "author           0\n",
       "price            0\n",
       "pages            0\n",
       "avg_reviews      0\n",
       "n_reviews        0\n",
       "star5            0\n",
       "star4            0\n",
       "star3            0\n",
       "star2            0\n",
       "star1            0\n",
       "dimensions       0\n",
       "weight           0\n",
       "language         0\n",
       "publisher        0\n",
       "ISBN_13          0\n",
       "link             0\n",
       "complete_link    0\n",
       "dtype: int64"
      ]
     },
     "execution_count": 5,
     "metadata": {},
     "output_type": "execute_result"
    }
   ],
   "source": [
    "df.isnull().sum()"
   ]
  },
  {
   "cell_type": "code",
   "execution_count": 6,
   "id": "acd1e5bb",
   "metadata": {},
   "outputs": [
    {
     "data": {
      "text/html": [
       "<div>\n",
       "<style scoped>\n",
       "    .dataframe tbody tr th:only-of-type {\n",
       "        vertical-align: middle;\n",
       "    }\n",
       "\n",
       "    .dataframe tbody tr th {\n",
       "        vertical-align: top;\n",
       "    }\n",
       "\n",
       "    .dataframe thead th {\n",
       "        text-align: right;\n",
       "    }\n",
       "</style>\n",
       "<table border=\"1\" class=\"dataframe\">\n",
       "  <thead>\n",
       "    <tr style=\"text-align: right;\">\n",
       "      <th></th>\n",
       "      <th>price</th>\n",
       "      <th>pages</th>\n",
       "      <th>avg_reviews</th>\n",
       "      <th>n_reviews</th>\n",
       "      <th>star5</th>\n",
       "      <th>star4</th>\n",
       "      <th>star3</th>\n",
       "      <th>star2</th>\n",
       "      <th>star1</th>\n",
       "    </tr>\n",
       "  </thead>\n",
       "  <tbody>\n",
       "    <tr>\n",
       "      <th>count</th>\n",
       "      <td>698.000000</td>\n",
       "      <td>698.000000</td>\n",
       "      <td>698.000000</td>\n",
       "      <td>698.000000</td>\n",
       "      <td>698.000000</td>\n",
       "      <td>698.000000</td>\n",
       "      <td>698.000000</td>\n",
       "      <td>698.000000</td>\n",
       "      <td>698.000000</td>\n",
       "    </tr>\n",
       "    <tr>\n",
       "      <th>mean</th>\n",
       "      <td>50.454513</td>\n",
       "      <td>430.237822</td>\n",
       "      <td>4.444556</td>\n",
       "      <td>150.881089</td>\n",
       "      <td>0.719140</td>\n",
       "      <td>0.162020</td>\n",
       "      <td>0.067049</td>\n",
       "      <td>0.030444</td>\n",
       "      <td>0.021261</td>\n",
       "    </tr>\n",
       "    <tr>\n",
       "      <th>std</th>\n",
       "      <td>36.399546</td>\n",
       "      <td>204.349437</td>\n",
       "      <td>0.401976</td>\n",
       "      <td>535.166053</td>\n",
       "      <td>0.150545</td>\n",
       "      <td>0.105296</td>\n",
       "      <td>0.063199</td>\n",
       "      <td>0.040292</td>\n",
       "      <td>0.033373</td>\n",
       "    </tr>\n",
       "    <tr>\n",
       "      <th>min</th>\n",
       "      <td>8.990000</td>\n",
       "      <td>48.000000</td>\n",
       "      <td>1.000000</td>\n",
       "      <td>1.000000</td>\n",
       "      <td>0.110000</td>\n",
       "      <td>0.000000</td>\n",
       "      <td>0.000000</td>\n",
       "      <td>0.000000</td>\n",
       "      <td>0.000000</td>\n",
       "    </tr>\n",
       "    <tr>\n",
       "      <th>25%</th>\n",
       "      <td>31.967500</td>\n",
       "      <td>286.250000</td>\n",
       "      <td>4.300000</td>\n",
       "      <td>10.000000</td>\n",
       "      <td>0.620000</td>\n",
       "      <td>0.110000</td>\n",
       "      <td>0.000000</td>\n",
       "      <td>0.000000</td>\n",
       "      <td>0.000000</td>\n",
       "    </tr>\n",
       "    <tr>\n",
       "      <th>50%</th>\n",
       "      <td>41.990000</td>\n",
       "      <td>392.000000</td>\n",
       "      <td>4.500000</td>\n",
       "      <td>33.000000</td>\n",
       "      <td>0.720000</td>\n",
       "      <td>0.150000</td>\n",
       "      <td>0.060000</td>\n",
       "      <td>0.020000</td>\n",
       "      <td>0.000000</td>\n",
       "    </tr>\n",
       "    <tr>\n",
       "      <th>75%</th>\n",
       "      <td>51.840000</td>\n",
       "      <td>543.500000</td>\n",
       "      <td>4.700000</td>\n",
       "      <td>101.750000</td>\n",
       "      <td>0.800000</td>\n",
       "      <td>0.200000</td>\n",
       "      <td>0.090000</td>\n",
       "      <td>0.040000</td>\n",
       "      <td>0.037500</td>\n",
       "    </tr>\n",
       "    <tr>\n",
       "      <th>max</th>\n",
       "      <td>279.950000</td>\n",
       "      <td>1728.000000</td>\n",
       "      <td>5.000000</td>\n",
       "      <td>7563.000000</td>\n",
       "      <td>1.000000</td>\n",
       "      <td>0.630000</td>\n",
       "      <td>0.400000</td>\n",
       "      <td>0.250000</td>\n",
       "      <td>0.230000</td>\n",
       "    </tr>\n",
       "  </tbody>\n",
       "</table>\n",
       "</div>"
      ],
      "text/plain": [
       "            price        pages  avg_reviews    n_reviews       star5  \\\n",
       "count  698.000000   698.000000   698.000000   698.000000  698.000000   \n",
       "mean    50.454513   430.237822     4.444556   150.881089    0.719140   \n",
       "std     36.399546   204.349437     0.401976   535.166053    0.150545   \n",
       "min      8.990000    48.000000     1.000000     1.000000    0.110000   \n",
       "25%     31.967500   286.250000     4.300000    10.000000    0.620000   \n",
       "50%     41.990000   392.000000     4.500000    33.000000    0.720000   \n",
       "75%     51.840000   543.500000     4.700000   101.750000    0.800000   \n",
       "max    279.950000  1728.000000     5.000000  7563.000000    1.000000   \n",
       "\n",
       "            star4       star3       star2       star1  \n",
       "count  698.000000  698.000000  698.000000  698.000000  \n",
       "mean     0.162020    0.067049    0.030444    0.021261  \n",
       "std      0.105296    0.063199    0.040292    0.033373  \n",
       "min      0.000000    0.000000    0.000000    0.000000  \n",
       "25%      0.110000    0.000000    0.000000    0.000000  \n",
       "50%      0.150000    0.060000    0.020000    0.000000  \n",
       "75%      0.200000    0.090000    0.040000    0.037500  \n",
       "max      0.630000    0.400000    0.250000    0.230000  "
      ]
     },
     "execution_count": 6,
     "metadata": {},
     "output_type": "execute_result"
    }
   ],
   "source": [
    "df.describe()"
   ]
  },
  {
   "cell_type": "code",
   "execution_count": 7,
   "id": "22e75dc6",
   "metadata": {},
   "outputs": [
    {
     "data": {
      "text/plain": [
       "(698, 18)"
      ]
     },
     "execution_count": 7,
     "metadata": {},
     "output_type": "execute_result"
    }
   ],
   "source": [
    "# Mengecek ukuran data\n",
    "df.shape"
   ]
  },
  {
   "cell_type": "code",
   "execution_count": 8,
   "id": "4a8dbedc",
   "metadata": {},
   "outputs": [
    {
     "data": {
      "text/plain": [
       "title             object\n",
       "author            object\n",
       "price            float64\n",
       "pages            float64\n",
       "avg_reviews      float64\n",
       "n_reviews          int64\n",
       "star5            float64\n",
       "star4            float64\n",
       "star3            float64\n",
       "star2            float64\n",
       "star1            float64\n",
       "dimensions        object\n",
       "weight            object\n",
       "language          object\n",
       "publisher         object\n",
       "ISBN_13           object\n",
       "link              object\n",
       "complete_link     object\n",
       "dtype: object"
      ]
     },
     "execution_count": 8,
     "metadata": {},
     "output_type": "execute_result"
    }
   ],
   "source": [
    "# Mengecek tipe datanya\n",
    "df.dtypes"
   ]
  },
  {
   "cell_type": "code",
   "execution_count": 9,
   "id": "84654c03",
   "metadata": {},
   "outputs": [
    {
     "data": {
      "text/html": [
       "<div>\n",
       "<style scoped>\n",
       "    .dataframe tbody tr th:only-of-type {\n",
       "        vertical-align: middle;\n",
       "    }\n",
       "\n",
       "    .dataframe tbody tr th {\n",
       "        vertical-align: top;\n",
       "    }\n",
       "\n",
       "    .dataframe thead th {\n",
       "        text-align: right;\n",
       "    }\n",
       "</style>\n",
       "<table border=\"1\" class=\"dataframe\">\n",
       "  <thead>\n",
       "    <tr style=\"text-align: right;\">\n",
       "      <th></th>\n",
       "      <th>title</th>\n",
       "      <th>author</th>\n",
       "      <th>price</th>\n",
       "      <th>pages</th>\n",
       "      <th>avg_reviews</th>\n",
       "      <th>n_reviews</th>\n",
       "      <th>star5</th>\n",
       "      <th>star4</th>\n",
       "      <th>star3</th>\n",
       "      <th>star2</th>\n",
       "      <th>star1</th>\n",
       "      <th>dimensions</th>\n",
       "      <th>weight</th>\n",
       "      <th>language</th>\n",
       "      <th>publisher</th>\n",
       "      <th>ISBN_13</th>\n",
       "      <th>link</th>\n",
       "      <th>complete_link</th>\n",
       "    </tr>\n",
       "  </thead>\n",
       "  <tbody>\n",
       "    <tr>\n",
       "      <th>0</th>\n",
       "      <td>Becoming a Data Head: How to Think Speak and U...</td>\n",
       "      <td>[Alex J. Gutman,Jordan Goldmeier]</td>\n",
       "      <td>24.49</td>\n",
       "      <td>272.0</td>\n",
       "      <td>4.6</td>\n",
       "      <td>184</td>\n",
       "      <td>0.74</td>\n",
       "      <td>0.18</td>\n",
       "      <td>0.05</td>\n",
       "      <td>0.02</td>\n",
       "      <td>0.01</td>\n",
       "      <td>6 x 0.62 x 9 inches</td>\n",
       "      <td>12.5 ounces</td>\n",
       "      <td>English</td>\n",
       "      <td>Wiley; 1st edition (April 23 2021)</td>\n",
       "      <td>978-1119741749</td>\n",
       "      <td>/Becoming-Data-Head-Understand-Statistics/dp/1...</td>\n",
       "      <td>https://www.amazon.com/Becoming-Data-Head-Unde...</td>\n",
       "    </tr>\n",
       "    <tr>\n",
       "      <th>1</th>\n",
       "      <td>Ace the Data Science Interview: 201 Real Inter...</td>\n",
       "      <td>[Nick Singh,Kevin Huo]</td>\n",
       "      <td>26.00</td>\n",
       "      <td>301.0</td>\n",
       "      <td>4.5</td>\n",
       "      <td>599</td>\n",
       "      <td>0.77</td>\n",
       "      <td>0.10</td>\n",
       "      <td>0.06</td>\n",
       "      <td>0.03</td>\n",
       "      <td>0.04</td>\n",
       "      <td>7 x 0.68 x 10 inches</td>\n",
       "      <td>1.28 pounds</td>\n",
       "      <td>English</td>\n",
       "      <td>Ace the Data Science Interview (August 16 2021)</td>\n",
       "      <td>978-0578973838</td>\n",
       "      <td>/Ace-Data-Science-Interview-Questions/dp/05789...</td>\n",
       "      <td>https://www.amazon.com/Ace-Data-Science-Interv...</td>\n",
       "    </tr>\n",
       "    <tr>\n",
       "      <th>2</th>\n",
       "      <td>Fundamentals of Data Engineering: Plan and Bui...</td>\n",
       "      <td>[Joe Reis,Matt Housley]</td>\n",
       "      <td>50.76</td>\n",
       "      <td>446.0</td>\n",
       "      <td>5.0</td>\n",
       "      <td>33</td>\n",
       "      <td>0.96</td>\n",
       "      <td>0.04</td>\n",
       "      <td>0.00</td>\n",
       "      <td>0.00</td>\n",
       "      <td>0.00</td>\n",
       "      <td>7 x 1 x 9.25 inches</td>\n",
       "      <td>1.57 pounds</td>\n",
       "      <td>English</td>\n",
       "      <td>OReilly Media; 1st edition (July 26 2022)</td>\n",
       "      <td>978-1098108304</td>\n",
       "      <td>/Fundamentals-Data-Engineering-Robust-Systems/...</td>\n",
       "      <td>https://www.amazon.com/Fundamentals-Data-Engin...</td>\n",
       "    </tr>\n",
       "  </tbody>\n",
       "</table>\n",
       "</div>"
      ],
      "text/plain": [
       "                                               title  \\\n",
       "0  Becoming a Data Head: How to Think Speak and U...   \n",
       "1  Ace the Data Science Interview: 201 Real Inter...   \n",
       "2  Fundamentals of Data Engineering: Plan and Bui...   \n",
       "\n",
       "                              author  price  pages  avg_reviews  n_reviews  \\\n",
       "0  [Alex J. Gutman,Jordan Goldmeier]  24.49  272.0          4.6        184   \n",
       "1             [Nick Singh,Kevin Huo]  26.00  301.0          4.5        599   \n",
       "2            [Joe Reis,Matt Housley]  50.76  446.0          5.0         33   \n",
       "\n",
       "   star5  star4  star3  star2  star1            dimensions       weight  \\\n",
       "0   0.74   0.18   0.05   0.02   0.01   6 x 0.62 x 9 inches  12.5 ounces   \n",
       "1   0.77   0.10   0.06   0.03   0.04  7 x 0.68 x 10 inches  1.28 pounds   \n",
       "2   0.96   0.04   0.00   0.00   0.00   7 x 1 x 9.25 inches  1.57 pounds   \n",
       "\n",
       "  language                                        publisher         ISBN_13  \\\n",
       "0  English               Wiley; 1st edition (April 23 2021)  978-1119741749   \n",
       "1  English  Ace the Data Science Interview (August 16 2021)  978-0578973838   \n",
       "2  English        OReilly Media; 1st edition (July 26 2022)  978-1098108304   \n",
       "\n",
       "                                                link  \\\n",
       "0  /Becoming-Data-Head-Understand-Statistics/dp/1...   \n",
       "1  /Ace-Data-Science-Interview-Questions/dp/05789...   \n",
       "2  /Fundamentals-Data-Engineering-Robust-Systems/...   \n",
       "\n",
       "                                       complete_link  \n",
       "0  https://www.amazon.com/Becoming-Data-Head-Unde...  \n",
       "1  https://www.amazon.com/Ace-Data-Science-Interv...  \n",
       "2  https://www.amazon.com/Fundamentals-Data-Engin...  "
      ]
     },
     "execution_count": 9,
     "metadata": {},
     "output_type": "execute_result"
    }
   ],
   "source": [
    "df.head(3)"
   ]
  },
  {
   "cell_type": "code",
   "execution_count": 10,
   "id": "b40f8c78",
   "metadata": {},
   "outputs": [
    {
     "data": {
      "text/html": [
       "<div>\n",
       "<style scoped>\n",
       "    .dataframe tbody tr th:only-of-type {\n",
       "        vertical-align: middle;\n",
       "    }\n",
       "\n",
       "    .dataframe tbody tr th {\n",
       "        vertical-align: top;\n",
       "    }\n",
       "\n",
       "    .dataframe thead th {\n",
       "        text-align: right;\n",
       "    }\n",
       "</style>\n",
       "<table border=\"1\" class=\"dataframe\">\n",
       "  <thead>\n",
       "    <tr style=\"text-align: right;\">\n",
       "      <th></th>\n",
       "      <th>title</th>\n",
       "      <th>author</th>\n",
       "      <th>price</th>\n",
       "      <th>pages</th>\n",
       "      <th>avg_reviews</th>\n",
       "      <th>n_reviews</th>\n",
       "      <th>star5</th>\n",
       "      <th>star4</th>\n",
       "      <th>star3</th>\n",
       "      <th>star2</th>\n",
       "      <th>star1</th>\n",
       "      <th>dimensions</th>\n",
       "      <th>weight</th>\n",
       "      <th>language</th>\n",
       "      <th>publisher</th>\n",
       "      <th>ISBN_13</th>\n",
       "      <th>link</th>\n",
       "      <th>complete_link</th>\n",
       "    </tr>\n",
       "  </thead>\n",
       "  <tbody>\n",
       "  </tbody>\n",
       "</table>\n",
       "</div>"
      ],
      "text/plain": [
       "Empty DataFrame\n",
       "Columns: [title, author, price, pages, avg_reviews, n_reviews, star5, star4, star3, star2, star1, dimensions, weight, language, publisher, ISBN_13, link, complete_link]\n",
       "Index: []"
      ]
     },
     "execution_count": 10,
     "metadata": {},
     "output_type": "execute_result"
    }
   ],
   "source": [
    "df.loc[df.duplicated()]"
   ]
  },
  {
   "cell_type": "markdown",
   "id": "88aad075",
   "metadata": {},
   "source": [
    "#### Tampak tidak ada data yang duplikat"
   ]
  },
  {
   "cell_type": "code",
   "execution_count": 11,
   "id": "4051077e",
   "metadata": {},
   "outputs": [
    {
     "data": {
      "text/plain": [
       "[ERICK THOMPSON]                          5\n",
       "[Yves Hilpisch]                           4\n",
       "[Al Sweigart]                             4\n",
       "[Denis Rothman]                           3\n",
       "[Jim Frost]                               3\n",
       "                                         ..\n",
       "[Jules Damji,Brooke Wenig et al.]         1\n",
       "[Daniel Covington]                        1\n",
       "[Robert Carver]                           1\n",
       "[Roger S. Bivand,Edzer Pebesma et al.]    1\n",
       "[Donncha Hanna,Martin Dempster]           1\n",
       "Name: author, Length: 653, dtype: int64"
      ]
     },
     "execution_count": 11,
     "metadata": {},
     "output_type": "execute_result"
    }
   ],
   "source": [
    "df['author'].value_counts()"
   ]
  },
  {
   "cell_type": "code",
   "execution_count": 12,
   "id": "ad8af822",
   "metadata": {},
   "outputs": [],
   "source": [
    "# Hapus kolom yang tidak penting\n",
    "df.drop('ISBN_13', axis=1, inplace=True)"
   ]
  },
  {
   "cell_type": "code",
   "execution_count": 13,
   "id": "ec672d03",
   "metadata": {},
   "outputs": [
    {
     "data": {
      "text/html": [
       "<div>\n",
       "<style scoped>\n",
       "    .dataframe tbody tr th:only-of-type {\n",
       "        vertical-align: middle;\n",
       "    }\n",
       "\n",
       "    .dataframe tbody tr th {\n",
       "        vertical-align: top;\n",
       "    }\n",
       "\n",
       "    .dataframe thead th {\n",
       "        text-align: right;\n",
       "    }\n",
       "</style>\n",
       "<table border=\"1\" class=\"dataframe\">\n",
       "  <thead>\n",
       "    <tr style=\"text-align: right;\">\n",
       "      <th></th>\n",
       "      <th>title</th>\n",
       "      <th>author</th>\n",
       "      <th>price</th>\n",
       "      <th>pages</th>\n",
       "      <th>avg_reviews</th>\n",
       "      <th>n_reviews</th>\n",
       "      <th>star5</th>\n",
       "      <th>star4</th>\n",
       "      <th>star3</th>\n",
       "      <th>star2</th>\n",
       "      <th>star1</th>\n",
       "      <th>dimensions</th>\n",
       "      <th>weight</th>\n",
       "      <th>language</th>\n",
       "      <th>publisher</th>\n",
       "      <th>link</th>\n",
       "      <th>complete_link</th>\n",
       "    </tr>\n",
       "  </thead>\n",
       "  <tbody>\n",
       "    <tr>\n",
       "      <th>0</th>\n",
       "      <td>Becoming a Data Head: How to Think Speak and U...</td>\n",
       "      <td>[Alex J. Gutman,Jordan Goldmeier]</td>\n",
       "      <td>24.49</td>\n",
       "      <td>272.0</td>\n",
       "      <td>4.6</td>\n",
       "      <td>184</td>\n",
       "      <td>0.74</td>\n",
       "      <td>0.18</td>\n",
       "      <td>0.05</td>\n",
       "      <td>0.02</td>\n",
       "      <td>0.01</td>\n",
       "      <td>6 x 0.62 x 9 inches</td>\n",
       "      <td>12.5 ounces</td>\n",
       "      <td>English</td>\n",
       "      <td>Wiley; 1st edition (April 23 2021)</td>\n",
       "      <td>/Becoming-Data-Head-Understand-Statistics/dp/1...</td>\n",
       "      <td>https://www.amazon.com/Becoming-Data-Head-Unde...</td>\n",
       "    </tr>\n",
       "    <tr>\n",
       "      <th>1</th>\n",
       "      <td>Ace the Data Science Interview: 201 Real Inter...</td>\n",
       "      <td>[Nick Singh,Kevin Huo]</td>\n",
       "      <td>26.00</td>\n",
       "      <td>301.0</td>\n",
       "      <td>4.5</td>\n",
       "      <td>599</td>\n",
       "      <td>0.77</td>\n",
       "      <td>0.10</td>\n",
       "      <td>0.06</td>\n",
       "      <td>0.03</td>\n",
       "      <td>0.04</td>\n",
       "      <td>7 x 0.68 x 10 inches</td>\n",
       "      <td>1.28 pounds</td>\n",
       "      <td>English</td>\n",
       "      <td>Ace the Data Science Interview (August 16 2021)</td>\n",
       "      <td>/Ace-Data-Science-Interview-Questions/dp/05789...</td>\n",
       "      <td>https://www.amazon.com/Ace-Data-Science-Interv...</td>\n",
       "    </tr>\n",
       "    <tr>\n",
       "      <th>2</th>\n",
       "      <td>Fundamentals of Data Engineering: Plan and Bui...</td>\n",
       "      <td>[Joe Reis,Matt Housley]</td>\n",
       "      <td>50.76</td>\n",
       "      <td>446.0</td>\n",
       "      <td>5.0</td>\n",
       "      <td>33</td>\n",
       "      <td>0.96</td>\n",
       "      <td>0.04</td>\n",
       "      <td>0.00</td>\n",
       "      <td>0.00</td>\n",
       "      <td>0.00</td>\n",
       "      <td>7 x 1 x 9.25 inches</td>\n",
       "      <td>1.57 pounds</td>\n",
       "      <td>English</td>\n",
       "      <td>OReilly Media; 1st edition (July 26 2022)</td>\n",
       "      <td>/Fundamentals-Data-Engineering-Robust-Systems/...</td>\n",
       "      <td>https://www.amazon.com/Fundamentals-Data-Engin...</td>\n",
       "    </tr>\n",
       "  </tbody>\n",
       "</table>\n",
       "</div>"
      ],
      "text/plain": [
       "                                               title  \\\n",
       "0  Becoming a Data Head: How to Think Speak and U...   \n",
       "1  Ace the Data Science Interview: 201 Real Inter...   \n",
       "2  Fundamentals of Data Engineering: Plan and Bui...   \n",
       "\n",
       "                              author  price  pages  avg_reviews  n_reviews  \\\n",
       "0  [Alex J. Gutman,Jordan Goldmeier]  24.49  272.0          4.6        184   \n",
       "1             [Nick Singh,Kevin Huo]  26.00  301.0          4.5        599   \n",
       "2            [Joe Reis,Matt Housley]  50.76  446.0          5.0         33   \n",
       "\n",
       "   star5  star4  star3  star2  star1            dimensions       weight  \\\n",
       "0   0.74   0.18   0.05   0.02   0.01   6 x 0.62 x 9 inches  12.5 ounces   \n",
       "1   0.77   0.10   0.06   0.03   0.04  7 x 0.68 x 10 inches  1.28 pounds   \n",
       "2   0.96   0.04   0.00   0.00   0.00   7 x 1 x 9.25 inches  1.57 pounds   \n",
       "\n",
       "  language                                        publisher  \\\n",
       "0  English               Wiley; 1st edition (April 23 2021)   \n",
       "1  English  Ace the Data Science Interview (August 16 2021)   \n",
       "2  English        OReilly Media; 1st edition (July 26 2022)   \n",
       "\n",
       "                                                link  \\\n",
       "0  /Becoming-Data-Head-Understand-Statistics/dp/1...   \n",
       "1  /Ace-Data-Science-Interview-Questions/dp/05789...   \n",
       "2  /Fundamentals-Data-Engineering-Robust-Systems/...   \n",
       "\n",
       "                                       complete_link  \n",
       "0  https://www.amazon.com/Becoming-Data-Head-Unde...  \n",
       "1  https://www.amazon.com/Ace-Data-Science-Interv...  \n",
       "2  https://www.amazon.com/Fundamentals-Data-Engin...  "
      ]
     },
     "execution_count": 13,
     "metadata": {},
     "output_type": "execute_result"
    }
   ],
   "source": [
    "df.head(3)"
   ]
  },
  {
   "cell_type": "code",
   "execution_count": 55,
   "id": "bd753c90",
   "metadata": {},
   "outputs": [
    {
     "data": {
      "text/plain": [
       "title            70\n",
       "author           70\n",
       "price            70\n",
       "pages            70\n",
       "avg_reviews      70\n",
       "n_reviews        70\n",
       "star5            70\n",
       "star4            70\n",
       "star3            70\n",
       "star2            70\n",
       "star1            70\n",
       "dimensions       70\n",
       "weight           70\n",
       "language         70\n",
       "publisher        70\n",
       "link             70\n",
       "complete_link    70\n",
       "dtype: int64"
      ]
     },
     "execution_count": 55,
     "metadata": {},
     "output_type": "execute_result"
    }
   ],
   "source": [
    "#df.loc[df['avg_reviews'] == 5.0].count()"
   ]
  },
  {
   "cell_type": "code",
   "execution_count": 57,
   "id": "2c2d9208",
   "metadata": {},
   "outputs": [
    {
     "data": {
      "text/plain": [
       "array([False])"
      ]
     },
     "execution_count": 57,
     "metadata": {},
     "output_type": "execute_result"
    }
   ],
   "source": [
    "#df.loc[df['avg_reviews'] == 5.0].duplicated().unique()"
   ]
  },
  {
   "cell_type": "markdown",
   "id": "d9273a9e",
   "metadata": {},
   "source": [
    "# 1. Buku apa yang memiliki jumlah review terbanyak"
   ]
  },
  {
   "cell_type": "code",
   "execution_count": 20,
   "id": "20bb4d84",
   "metadata": {},
   "outputs": [
    {
     "data": {
      "text/html": [
       "<div>\n",
       "<style scoped>\n",
       "    .dataframe tbody tr th:only-of-type {\n",
       "        vertical-align: middle;\n",
       "    }\n",
       "\n",
       "    .dataframe tbody tr th {\n",
       "        vertical-align: top;\n",
       "    }\n",
       "\n",
       "    .dataframe thead th {\n",
       "        text-align: right;\n",
       "    }\n",
       "</style>\n",
       "<table border=\"1\" class=\"dataframe\">\n",
       "  <thead>\n",
       "    <tr style=\"text-align: right;\">\n",
       "      <th></th>\n",
       "      <th>title</th>\n",
       "      <th>author</th>\n",
       "      <th>price</th>\n",
       "      <th>pages</th>\n",
       "      <th>avg_reviews</th>\n",
       "      <th>n_reviews</th>\n",
       "      <th>star5</th>\n",
       "      <th>star4</th>\n",
       "      <th>star3</th>\n",
       "      <th>star2</th>\n",
       "      <th>star1</th>\n",
       "      <th>dimensions</th>\n",
       "      <th>weight</th>\n",
       "      <th>language</th>\n",
       "      <th>publisher</th>\n",
       "      <th>link</th>\n",
       "      <th>complete_link</th>\n",
       "    </tr>\n",
       "  </thead>\n",
       "  <tbody>\n",
       "    <tr>\n",
       "      <th>127</th>\n",
       "      <td>Cracking the Coding Interview: 189 Programming...</td>\n",
       "      <td>[Gayle Laakmann McDowell]</td>\n",
       "      <td>35.95</td>\n",
       "      <td>687.0</td>\n",
       "      <td>4.7</td>\n",
       "      <td>7563</td>\n",
       "      <td>0.81</td>\n",
       "      <td>0.12</td>\n",
       "      <td>0.04</td>\n",
       "      <td>0.01</td>\n",
       "      <td>0.02</td>\n",
       "      <td>7 x 1.59 x 10 inches</td>\n",
       "      <td>2.69 pounds</td>\n",
       "      <td>English</td>\n",
       "      <td>CareerCup; 6th edition (July 1 2015)</td>\n",
       "      <td>/Cracking-Coding-Interview-Programming-Questio...</td>\n",
       "      <td>https://www.amazon.com/Cracking-Coding-Intervi...</td>\n",
       "    </tr>\n",
       "  </tbody>\n",
       "</table>\n",
       "</div>"
      ],
      "text/plain": [
       "                                                 title  \\\n",
       "127  Cracking the Coding Interview: 189 Programming...   \n",
       "\n",
       "                        author  price  pages  avg_reviews  n_reviews  star5  \\\n",
       "127  [Gayle Laakmann McDowell]  35.95  687.0          4.7       7563   0.81   \n",
       "\n",
       "     star4  star3  star2  star1            dimensions       weight language  \\\n",
       "127   0.12   0.04   0.01   0.02  7 x 1.59 x 10 inches  2.69 pounds  English   \n",
       "\n",
       "                                publisher  \\\n",
       "127  CareerCup; 6th edition (July 1 2015)   \n",
       "\n",
       "                                                  link  \\\n",
       "127  /Cracking-Coding-Interview-Programming-Questio...   \n",
       "\n",
       "                                         complete_link  \n",
       "127  https://www.amazon.com/Cracking-Coding-Intervi...  "
      ]
     },
     "execution_count": 20,
     "metadata": {},
     "output_type": "execute_result"
    }
   ],
   "source": [
    "df[df['n_reviews'] == df['n_reviews'].max()]"
   ]
  },
  {
   "cell_type": "code",
   "execution_count": 21,
   "id": "5a1ac3b3",
   "metadata": {},
   "outputs": [
    {
     "data": {
      "text/plain": [
       "'Cracking the Coding Interview: 189 Programming Questions and Solutions'"
      ]
     },
     "execution_count": 21,
     "metadata": {},
     "output_type": "execute_result"
    }
   ],
   "source": [
    "# Cara lain untuk mengetahuinya\n",
    "most_review = df.loc[df['n_reviews'] == df['n_reviews'].max(), 'title'].iloc[0]\n",
    "most_review"
   ]
  },
  {
   "cell_type": "code",
   "execution_count": 61,
   "id": "8cf236a6",
   "metadata": {},
   "outputs": [
    {
     "data": {
      "text/plain": [
       "7563"
      ]
     },
     "execution_count": 61,
     "metadata": {},
     "output_type": "execute_result"
    }
   ],
   "source": [
    "# Jumlah review terbanyak\n",
    "df['n_reviews'].max()"
   ]
  },
  {
   "cell_type": "markdown",
   "id": "8e44b93a",
   "metadata": {},
   "source": [
    "### Kita mau memeriksa persentase rating bintang 5 yang diberikan oleh 7563 reviewer untuk buku tersebut"
   ]
  },
  {
   "cell_type": "code",
   "execution_count": 22,
   "id": "9b1a388b",
   "metadata": {},
   "outputs": [
    {
     "data": {
      "text/plain": [
       "0.81"
      ]
     },
     "execution_count": 22,
     "metadata": {},
     "output_type": "execute_result"
    }
   ],
   "source": [
    "df.loc[df['title'] == most_review, 'star5'].iloc[0]"
   ]
  },
  {
   "cell_type": "markdown",
   "id": "8230e8da",
   "metadata": {},
   "source": [
    "### 81% bintang 5 untuk sebuah buku yang memiliki total 7563 review menandakan bahwa buku tersebut memang bagus "
   ]
  },
  {
   "cell_type": "code",
   "execution_count": 114,
   "id": "5b04e4a1",
   "metadata": {},
   "outputs": [
    {
     "data": {
      "text/plain": [
       "(7, 17)"
      ]
     },
     "execution_count": 114,
     "metadata": {},
     "output_type": "execute_result"
    }
   ],
   "source": [
    "rating_salah.shape"
   ]
  },
  {
   "cell_type": "code",
   "execution_count": 75,
   "id": "295e57f9",
   "metadata": {},
   "outputs": [
    {
     "data": {
      "text/html": [
       "<div>\n",
       "<style scoped>\n",
       "    .dataframe tbody tr th:only-of-type {\n",
       "        vertical-align: middle;\n",
       "    }\n",
       "\n",
       "    .dataframe tbody tr th {\n",
       "        vertical-align: top;\n",
       "    }\n",
       "\n",
       "    .dataframe thead th {\n",
       "        text-align: right;\n",
       "    }\n",
       "</style>\n",
       "<table border=\"1\" class=\"dataframe\">\n",
       "  <thead>\n",
       "    <tr style=\"text-align: right;\">\n",
       "      <th></th>\n",
       "      <th>title</th>\n",
       "      <th>author</th>\n",
       "      <th>price</th>\n",
       "      <th>pages</th>\n",
       "      <th>avg_reviews</th>\n",
       "      <th>n_reviews</th>\n",
       "      <th>star5</th>\n",
       "      <th>star4</th>\n",
       "      <th>star3</th>\n",
       "      <th>star2</th>\n",
       "      <th>star1</th>\n",
       "      <th>dimensions</th>\n",
       "      <th>weight</th>\n",
       "      <th>language</th>\n",
       "      <th>publisher</th>\n",
       "      <th>link</th>\n",
       "      <th>complete_link</th>\n",
       "    </tr>\n",
       "  </thead>\n",
       "  <tbody>\n",
       "    <tr>\n",
       "      <th>22</th>\n",
       "      <td>Effective Data Science Infrastructure: How to ...</td>\n",
       "      <td>[Ville Tuulos]</td>\n",
       "      <td>49.99</td>\n",
       "      <td>352.0</td>\n",
       "      <td>5.0</td>\n",
       "      <td>5</td>\n",
       "      <td>1.0</td>\n",
       "      <td>0.0</td>\n",
       "      <td>0.0</td>\n",
       "      <td>0.0</td>\n",
       "      <td>0.0</td>\n",
       "      <td>7.38 x 0.8 x 9.25 inches</td>\n",
       "      <td>1.15 pounds</td>\n",
       "      <td>English</td>\n",
       "      <td>Manning (August 16 2022)</td>\n",
       "      <td>/Effective-Data-Science-Infrastructure-scienti...</td>\n",
       "      <td>https://www.amazon.com/Effective-Data-Science-...</td>\n",
       "    </tr>\n",
       "    <tr>\n",
       "      <th>27</th>\n",
       "      <td>Be Data Driven: How Organizations Can Harness ...</td>\n",
       "      <td>[Jordan Morrow]</td>\n",
       "      <td>34.99</td>\n",
       "      <td>240.0</td>\n",
       "      <td>5.0</td>\n",
       "      <td>1</td>\n",
       "      <td>1.0</td>\n",
       "      <td>0.0</td>\n",
       "      <td>0.0</td>\n",
       "      <td>0.0</td>\n",
       "      <td>0.0</td>\n",
       "      <td>6.14 x 0.55 x 9.21 inches</td>\n",
       "      <td>12 ounces</td>\n",
       "      <td>English</td>\n",
       "      <td>Kogan Page; 1st edition (August 30 2022)</td>\n",
       "      <td>/Be-Data-Driven-Organizations-Harness/dp/13986...</td>\n",
       "      <td>https://www.amazon.com/Be-Data-Driven-Organiza...</td>\n",
       "    </tr>\n",
       "    <tr>\n",
       "      <th>33</th>\n",
       "      <td>Python for Data Analysis: Data Wrangling with ...</td>\n",
       "      <td>[Wes McKinney]</td>\n",
       "      <td>62.99</td>\n",
       "      <td>579.0</td>\n",
       "      <td>5.0</td>\n",
       "      <td>1</td>\n",
       "      <td>1.0</td>\n",
       "      <td>0.0</td>\n",
       "      <td>0.0</td>\n",
       "      <td>0.0</td>\n",
       "      <td>0.0</td>\n",
       "      <td>9.1 x 1.2 x 6.9 inches</td>\n",
       "      <td>2.07 pounds</td>\n",
       "      <td>English</td>\n",
       "      <td>OReilly Media; 3rd edition (September 20 2022)</td>\n",
       "      <td>/Python-Data-Analysis-Wrangling-Jupyter/dp/109...</td>\n",
       "      <td>https://www.amazon.com/Python-Data-Analysis-Wr...</td>\n",
       "    </tr>\n",
       "    <tr>\n",
       "      <th>45</th>\n",
       "      <td>Data Science Ethics: Concepts Techniques and C...</td>\n",
       "      <td>[David Martens]</td>\n",
       "      <td>37.20</td>\n",
       "      <td>272.0</td>\n",
       "      <td>5.0</td>\n",
       "      <td>2</td>\n",
       "      <td>1.0</td>\n",
       "      <td>0.0</td>\n",
       "      <td>0.0</td>\n",
       "      <td>0.0</td>\n",
       "      <td>0.0</td>\n",
       "      <td>9.4 x 0.6 x 6.2 inches</td>\n",
       "      <td>15.5 ounces</td>\n",
       "      <td>English</td>\n",
       "      <td>Oxford University Press (June 24 2022)</td>\n",
       "      <td>/Data-Science-Ethics-Techniques-Cautionary/dp/...</td>\n",
       "      <td>https://www.amazon.com/Data-Science-Ethics-Tec...</td>\n",
       "    </tr>\n",
       "    <tr>\n",
       "      <th>50</th>\n",
       "      <td>Simplify Big Data Analytics with Amazon EMR: A...</td>\n",
       "      <td>[Sakti Mishra]</td>\n",
       "      <td>46.99</td>\n",
       "      <td>430.0</td>\n",
       "      <td>5.0</td>\n",
       "      <td>9</td>\n",
       "      <td>1.0</td>\n",
       "      <td>0.0</td>\n",
       "      <td>0.0</td>\n",
       "      <td>0.0</td>\n",
       "      <td>0.0</td>\n",
       "      <td>7.5 x 0.97 x 9.25 inches</td>\n",
       "      <td>1.62 pounds</td>\n",
       "      <td>English</td>\n",
       "      <td>Packt Publishing (March 25 2022)</td>\n",
       "      <td>/Simplify-Big-Data-Analytics-Amazon/dp/1801071...</td>\n",
       "      <td>https://www.amazon.com/Simplify-Big-Data-Analy...</td>\n",
       "    </tr>\n",
       "    <tr>\n",
       "      <th>...</th>\n",
       "      <td>...</td>\n",
       "      <td>...</td>\n",
       "      <td>...</td>\n",
       "      <td>...</td>\n",
       "      <td>...</td>\n",
       "      <td>...</td>\n",
       "      <td>...</td>\n",
       "      <td>...</td>\n",
       "      <td>...</td>\n",
       "      <td>...</td>\n",
       "      <td>...</td>\n",
       "      <td>...</td>\n",
       "      <td>...</td>\n",
       "      <td>...</td>\n",
       "      <td>...</td>\n",
       "      <td>...</td>\n",
       "      <td>...</td>\n",
       "    </tr>\n",
       "    <tr>\n",
       "      <th>843</th>\n",
       "      <td>Painless Statistics (Barrons Painless)</td>\n",
       "      <td>[Patrick Honner]</td>\n",
       "      <td>14.99</td>\n",
       "      <td>320.0</td>\n",
       "      <td>5.0</td>\n",
       "      <td>4</td>\n",
       "      <td>1.0</td>\n",
       "      <td>0.0</td>\n",
       "      <td>0.0</td>\n",
       "      <td>0.0</td>\n",
       "      <td>0.0</td>\n",
       "      <td>6 x 0.7 x 9 inches</td>\n",
       "      <td>15.2 ounces</td>\n",
       "      <td>English</td>\n",
       "      <td>In the 1930s Manuel H. Barron opened a bookst...</td>\n",
       "      <td>/Painless-Statistics-Barrons-Patrick-Honner/dp...</td>\n",
       "      <td>https://www.amazon.com/Painless-Statistics-Bar...</td>\n",
       "    </tr>\n",
       "    <tr>\n",
       "      <th>882</th>\n",
       "      <td>Modern Mathematical Statistics with Applicatio...</td>\n",
       "      <td>[Jay L. Devore,Kenneth N. Berk et al.]</td>\n",
       "      <td>121.11</td>\n",
       "      <td>988.0</td>\n",
       "      <td>4.0</td>\n",
       "      <td>1</td>\n",
       "      <td>1.0</td>\n",
       "      <td>0.0</td>\n",
       "      <td>0.0</td>\n",
       "      <td>0.0</td>\n",
       "      <td>0.0</td>\n",
       "      <td>7.8 x 1.6 x 10.2 inches</td>\n",
       "      <td>4.98 pounds</td>\n",
       "      <td>English</td>\n",
       "      <td>Springer; 3rd ed. 2021 edition (April 30 2021)</td>\n",
       "      <td>/Modern-Mathematical-Statistics-Applications-S...</td>\n",
       "      <td>https://www.amazon.com/Modern-Mathematical-Sta...</td>\n",
       "    </tr>\n",
       "    <tr>\n",
       "      <th>884</th>\n",
       "      <td>Statistics Made Simple for School Leaders: A N...</td>\n",
       "      <td>[Susan Rovezzi Carroll,David J. Carroll]</td>\n",
       "      <td>35.00</td>\n",
       "      <td>140.0</td>\n",
       "      <td>5.0</td>\n",
       "      <td>1</td>\n",
       "      <td>1.0</td>\n",
       "      <td>0.0</td>\n",
       "      <td>0.0</td>\n",
       "      <td>0.0</td>\n",
       "      <td>0.0</td>\n",
       "      <td>6.04 x 0.41 x 8.64 inches</td>\n",
       "      <td>7.7 ounces</td>\n",
       "      <td>English</td>\n",
       "      <td>Rowman &amp; Littlefield Publishers; 3rd edition (...</td>\n",
       "      <td>/Statistics-Made-Simple-School-Leaders/dp/1475...</td>\n",
       "      <td>https://www.amazon.com/Statistics-Made-Simple-...</td>\n",
       "    </tr>\n",
       "    <tr>\n",
       "      <th>914</th>\n",
       "      <td>Statistics and Probability with Applications (...</td>\n",
       "      <td>[Daren S. Starnes,Josh Tabor et al.]</td>\n",
       "      <td>158.99</td>\n",
       "      <td>864.0</td>\n",
       "      <td>3.0</td>\n",
       "      <td>1</td>\n",
       "      <td>1.0</td>\n",
       "      <td>0.0</td>\n",
       "      <td>0.0</td>\n",
       "      <td>0.0</td>\n",
       "      <td>0.0</td>\n",
       "      <td>8.5 x 1 x 10.88 inches</td>\n",
       "      <td>3.98 pounds</td>\n",
       "      <td>English</td>\n",
       "      <td>W. H. Freeman; Fourth edition (January 15 2021)</td>\n",
       "      <td>/Statistics-Probability-Applications-High-Scho...</td>\n",
       "      <td>https://www.amazon.com/Statistics-Probability-...</td>\n",
       "    </tr>\n",
       "    <tr>\n",
       "      <th>938</th>\n",
       "      <td>Even You Can Learn Statistics and Analytics: A...</td>\n",
       "      <td>[David M Levine,David F Stephan]</td>\n",
       "      <td>33.94</td>\n",
       "      <td>392.0</td>\n",
       "      <td>5.0</td>\n",
       "      <td>2</td>\n",
       "      <td>1.0</td>\n",
       "      <td>0.0</td>\n",
       "      <td>0.0</td>\n",
       "      <td>0.0</td>\n",
       "      <td>0.0</td>\n",
       "      <td>7 x 0.89 x 9.13 inches</td>\n",
       "      <td>1.4 pounds</td>\n",
       "      <td>English</td>\n",
       "      <td>Addison-Wesley Professional; 4th edition (May ...</td>\n",
       "      <td>/Even-You-Learn-Statistics-Analytics/dp/013765...</td>\n",
       "      <td>https://www.amazon.com/Even-You-Learn-Statisti...</td>\n",
       "    </tr>\n",
       "  </tbody>\n",
       "</table>\n",
       "<p>75 rows × 17 columns</p>\n",
       "</div>"
      ],
      "text/plain": [
       "                                                 title  \\\n",
       "22   Effective Data Science Infrastructure: How to ...   \n",
       "27   Be Data Driven: How Organizations Can Harness ...   \n",
       "33   Python for Data Analysis: Data Wrangling with ...   \n",
       "45   Data Science Ethics: Concepts Techniques and C...   \n",
       "50   Simplify Big Data Analytics with Amazon EMR: A...   \n",
       "..                                                 ...   \n",
       "843             Painless Statistics (Barrons Painless)   \n",
       "882  Modern Mathematical Statistics with Applicatio...   \n",
       "884  Statistics Made Simple for School Leaders: A N...   \n",
       "914  Statistics and Probability with Applications (...   \n",
       "938  Even You Can Learn Statistics and Analytics: A...   \n",
       "\n",
       "                                       author   price  pages  avg_reviews  \\\n",
       "22                             [Ville Tuulos]   49.99  352.0          5.0   \n",
       "27                            [Jordan Morrow]   34.99  240.0          5.0   \n",
       "33                             [Wes McKinney]   62.99  579.0          5.0   \n",
       "45                            [David Martens]   37.20  272.0          5.0   \n",
       "50                             [Sakti Mishra]   46.99  430.0          5.0   \n",
       "..                                        ...     ...    ...          ...   \n",
       "843                          [Patrick Honner]   14.99  320.0          5.0   \n",
       "882    [Jay L. Devore,Kenneth N. Berk et al.]  121.11  988.0          4.0   \n",
       "884  [Susan Rovezzi Carroll,David J. Carroll]   35.00  140.0          5.0   \n",
       "914      [Daren S. Starnes,Josh Tabor et al.]  158.99  864.0          3.0   \n",
       "938          [David M Levine,David F Stephan]   33.94  392.0          5.0   \n",
       "\n",
       "     n_reviews  star5  star4  star3  star2  star1                 dimensions  \\\n",
       "22           5    1.0    0.0    0.0    0.0    0.0   7.38 x 0.8 x 9.25 inches   \n",
       "27           1    1.0    0.0    0.0    0.0    0.0  6.14 x 0.55 x 9.21 inches   \n",
       "33           1    1.0    0.0    0.0    0.0    0.0     9.1 x 1.2 x 6.9 inches   \n",
       "45           2    1.0    0.0    0.0    0.0    0.0     9.4 x 0.6 x 6.2 inches   \n",
       "50           9    1.0    0.0    0.0    0.0    0.0   7.5 x 0.97 x 9.25 inches   \n",
       "..         ...    ...    ...    ...    ...    ...                        ...   \n",
       "843          4    1.0    0.0    0.0    0.0    0.0         6 x 0.7 x 9 inches   \n",
       "882          1    1.0    0.0    0.0    0.0    0.0    7.8 x 1.6 x 10.2 inches   \n",
       "884          1    1.0    0.0    0.0    0.0    0.0  6.04 x 0.41 x 8.64 inches   \n",
       "914          1    1.0    0.0    0.0    0.0    0.0     8.5 x 1 x 10.88 inches   \n",
       "938          2    1.0    0.0    0.0    0.0    0.0     7 x 0.89 x 9.13 inches   \n",
       "\n",
       "          weight language                                          publisher  \\\n",
       "22   1.15 pounds  English                           Manning (August 16 2022)   \n",
       "27     12 ounces  English           Kogan Page; 1st edition (August 30 2022)   \n",
       "33   2.07 pounds  English     OReilly Media; 3rd edition (September 20 2022)   \n",
       "45   15.5 ounces  English             Oxford University Press (June 24 2022)   \n",
       "50   1.62 pounds  English                   Packt Publishing (March 25 2022)   \n",
       "..           ...      ...                                                ...   \n",
       "843  15.2 ounces  English   In the 1930s Manuel H. Barron opened a bookst...   \n",
       "882  4.98 pounds  English     Springer; 3rd ed. 2021 edition (April 30 2021)   \n",
       "884   7.7 ounces  English  Rowman & Littlefield Publishers; 3rd edition (...   \n",
       "914  3.98 pounds  English    W. H. Freeman; Fourth edition (January 15 2021)   \n",
       "938   1.4 pounds  English  Addison-Wesley Professional; 4th edition (May ...   \n",
       "\n",
       "                                                  link  \\\n",
       "22   /Effective-Data-Science-Infrastructure-scienti...   \n",
       "27   /Be-Data-Driven-Organizations-Harness/dp/13986...   \n",
       "33   /Python-Data-Analysis-Wrangling-Jupyter/dp/109...   \n",
       "45   /Data-Science-Ethics-Techniques-Cautionary/dp/...   \n",
       "50   /Simplify-Big-Data-Analytics-Amazon/dp/1801071...   \n",
       "..                                                 ...   \n",
       "843  /Painless-Statistics-Barrons-Patrick-Honner/dp...   \n",
       "882  /Modern-Mathematical-Statistics-Applications-S...   \n",
       "884  /Statistics-Made-Simple-School-Leaders/dp/1475...   \n",
       "914  /Statistics-Probability-Applications-High-Scho...   \n",
       "938  /Even-You-Learn-Statistics-Analytics/dp/013765...   \n",
       "\n",
       "                                         complete_link  \n",
       "22   https://www.amazon.com/Effective-Data-Science-...  \n",
       "27   https://www.amazon.com/Be-Data-Driven-Organiza...  \n",
       "33   https://www.amazon.com/Python-Data-Analysis-Wr...  \n",
       "45   https://www.amazon.com/Data-Science-Ethics-Tec...  \n",
       "50   https://www.amazon.com/Simplify-Big-Data-Analy...  \n",
       "..                                                 ...  \n",
       "843  https://www.amazon.com/Painless-Statistics-Bar...  \n",
       "882  https://www.amazon.com/Modern-Mathematical-Sta...  \n",
       "884  https://www.amazon.com/Statistics-Made-Simple-...  \n",
       "914  https://www.amazon.com/Statistics-Probability-...  \n",
       "938  https://www.amazon.com/Even-You-Learn-Statisti...  \n",
       "\n",
       "[75 rows x 17 columns]"
      ]
     },
     "execution_count": 75,
     "metadata": {},
     "output_type": "execute_result"
    }
   ],
   "source": [
    "star5_max = df[df['star5'] == df['star5'].max()]\n",
    "star5_max"
   ]
  },
  {
   "cell_type": "code",
   "execution_count": 115,
   "id": "c7a01b3d",
   "metadata": {},
   "outputs": [
    {
     "data": {
      "text/plain": [
       "(75, 17)"
      ]
     },
     "execution_count": 115,
     "metadata": {},
     "output_type": "execute_result"
    }
   ],
   "source": [
    "star5_max.shape"
   ]
  },
  {
   "cell_type": "code",
   "execution_count": 116,
   "id": "867a091e",
   "metadata": {},
   "outputs": [
    {
     "data": {
      "text/html": [
       "<div>\n",
       "<style scoped>\n",
       "    .dataframe tbody tr th:only-of-type {\n",
       "        vertical-align: middle;\n",
       "    }\n",
       "\n",
       "    .dataframe tbody tr th {\n",
       "        vertical-align: top;\n",
       "    }\n",
       "\n",
       "    .dataframe thead th {\n",
       "        text-align: right;\n",
       "    }\n",
       "</style>\n",
       "<table border=\"1\" class=\"dataframe\">\n",
       "  <thead>\n",
       "    <tr style=\"text-align: right;\">\n",
       "      <th></th>\n",
       "      <th>title</th>\n",
       "      <th>author</th>\n",
       "      <th>price</th>\n",
       "      <th>pages</th>\n",
       "      <th>avg_reviews</th>\n",
       "      <th>n_reviews</th>\n",
       "      <th>star5</th>\n",
       "      <th>star4</th>\n",
       "      <th>star3</th>\n",
       "      <th>star2</th>\n",
       "      <th>star1</th>\n",
       "      <th>dimensions</th>\n",
       "      <th>weight</th>\n",
       "      <th>language</th>\n",
       "      <th>publisher</th>\n",
       "      <th>link</th>\n",
       "      <th>complete_link</th>\n",
       "    </tr>\n",
       "  </thead>\n",
       "  <tbody>\n",
       "    <tr>\n",
       "      <th>2</th>\n",
       "      <td>Fundamentals of Data Engineering: Plan and Bui...</td>\n",
       "      <td>[Joe Reis,Matt Housley]</td>\n",
       "      <td>50.76</td>\n",
       "      <td>446.0</td>\n",
       "      <td>5.0</td>\n",
       "      <td>33</td>\n",
       "      <td>0.96</td>\n",
       "      <td>0.04</td>\n",
       "      <td>0.0</td>\n",
       "      <td>0.0</td>\n",
       "      <td>0.0</td>\n",
       "      <td>7 x 1 x 9.25 inches</td>\n",
       "      <td>1.57 pounds</td>\n",
       "      <td>English</td>\n",
       "      <td>OReilly Media; 1st edition (July 26 2022)</td>\n",
       "      <td>/Fundamentals-Data-Engineering-Robust-Systems/...</td>\n",
       "      <td>https://www.amazon.com/Fundamentals-Data-Engin...</td>\n",
       "    </tr>\n",
       "    <tr>\n",
       "      <th>22</th>\n",
       "      <td>Effective Data Science Infrastructure: How to ...</td>\n",
       "      <td>[Ville Tuulos]</td>\n",
       "      <td>49.99</td>\n",
       "      <td>352.0</td>\n",
       "      <td>5.0</td>\n",
       "      <td>5</td>\n",
       "      <td>1.00</td>\n",
       "      <td>0.00</td>\n",
       "      <td>0.0</td>\n",
       "      <td>0.0</td>\n",
       "      <td>0.0</td>\n",
       "      <td>7.38 x 0.8 x 9.25 inches</td>\n",
       "      <td>1.15 pounds</td>\n",
       "      <td>English</td>\n",
       "      <td>Manning (August 16 2022)</td>\n",
       "      <td>/Effective-Data-Science-Infrastructure-scienti...</td>\n",
       "      <td>https://www.amazon.com/Effective-Data-Science-...</td>\n",
       "    </tr>\n",
       "    <tr>\n",
       "      <th>27</th>\n",
       "      <td>Be Data Driven: How Organizations Can Harness ...</td>\n",
       "      <td>[Jordan Morrow]</td>\n",
       "      <td>34.99</td>\n",
       "      <td>240.0</td>\n",
       "      <td>5.0</td>\n",
       "      <td>1</td>\n",
       "      <td>1.00</td>\n",
       "      <td>0.00</td>\n",
       "      <td>0.0</td>\n",
       "      <td>0.0</td>\n",
       "      <td>0.0</td>\n",
       "      <td>6.14 x 0.55 x 9.21 inches</td>\n",
       "      <td>12 ounces</td>\n",
       "      <td>English</td>\n",
       "      <td>Kogan Page; 1st edition (August 30 2022)</td>\n",
       "      <td>/Be-Data-Driven-Organizations-Harness/dp/13986...</td>\n",
       "      <td>https://www.amazon.com/Be-Data-Driven-Organiza...</td>\n",
       "    </tr>\n",
       "    <tr>\n",
       "      <th>33</th>\n",
       "      <td>Python for Data Analysis: Data Wrangling with ...</td>\n",
       "      <td>[Wes McKinney]</td>\n",
       "      <td>62.99</td>\n",
       "      <td>579.0</td>\n",
       "      <td>5.0</td>\n",
       "      <td>1</td>\n",
       "      <td>1.00</td>\n",
       "      <td>0.00</td>\n",
       "      <td>0.0</td>\n",
       "      <td>0.0</td>\n",
       "      <td>0.0</td>\n",
       "      <td>9.1 x 1.2 x 6.9 inches</td>\n",
       "      <td>2.07 pounds</td>\n",
       "      <td>English</td>\n",
       "      <td>OReilly Media; 3rd edition (September 20 2022)</td>\n",
       "      <td>/Python-Data-Analysis-Wrangling-Jupyter/dp/109...</td>\n",
       "      <td>https://www.amazon.com/Python-Data-Analysis-Wr...</td>\n",
       "    </tr>\n",
       "    <tr>\n",
       "      <th>45</th>\n",
       "      <td>Data Science Ethics: Concepts Techniques and C...</td>\n",
       "      <td>[David Martens]</td>\n",
       "      <td>37.20</td>\n",
       "      <td>272.0</td>\n",
       "      <td>5.0</td>\n",
       "      <td>2</td>\n",
       "      <td>1.00</td>\n",
       "      <td>0.00</td>\n",
       "      <td>0.0</td>\n",
       "      <td>0.0</td>\n",
       "      <td>0.0</td>\n",
       "      <td>9.4 x 0.6 x 6.2 inches</td>\n",
       "      <td>15.5 ounces</td>\n",
       "      <td>English</td>\n",
       "      <td>Oxford University Press (June 24 2022)</td>\n",
       "      <td>/Data-Science-Ethics-Techniques-Cautionary/dp/...</td>\n",
       "      <td>https://www.amazon.com/Data-Science-Ethics-Tec...</td>\n",
       "    </tr>\n",
       "    <tr>\n",
       "      <th>...</th>\n",
       "      <td>...</td>\n",
       "      <td>...</td>\n",
       "      <td>...</td>\n",
       "      <td>...</td>\n",
       "      <td>...</td>\n",
       "      <td>...</td>\n",
       "      <td>...</td>\n",
       "      <td>...</td>\n",
       "      <td>...</td>\n",
       "      <td>...</td>\n",
       "      <td>...</td>\n",
       "      <td>...</td>\n",
       "      <td>...</td>\n",
       "      <td>...</td>\n",
       "      <td>...</td>\n",
       "      <td>...</td>\n",
       "      <td>...</td>\n",
       "    </tr>\n",
       "    <tr>\n",
       "      <th>799</th>\n",
       "      <td>Hands-On Data Preprocessing in Python: Learn h...</td>\n",
       "      <td>[Roy Jafari]</td>\n",
       "      <td>49.99</td>\n",
       "      <td>602.0</td>\n",
       "      <td>5.0</td>\n",
       "      <td>17</td>\n",
       "      <td>1.00</td>\n",
       "      <td>0.00</td>\n",
       "      <td>0.0</td>\n",
       "      <td>0.0</td>\n",
       "      <td>0.0</td>\n",
       "      <td>7.5 x 1.36 x 9.25 inches</td>\n",
       "      <td>2.25 pounds</td>\n",
       "      <td>English</td>\n",
       "      <td>Packt Publishing (January 21 2022)</td>\n",
       "      <td>/gp/slredirect/picassoRedirect.html/ref=pa_sp_...</td>\n",
       "      <td>https://www.amazon.com/gp/slredirect/picassoRe...</td>\n",
       "    </tr>\n",
       "    <tr>\n",
       "      <th>817</th>\n",
       "      <td>The Recursive Book of Recursion: Ace the Codin...</td>\n",
       "      <td>[Al Sweigart]</td>\n",
       "      <td>36.94</td>\n",
       "      <td>328.0</td>\n",
       "      <td>5.0</td>\n",
       "      <td>6</td>\n",
       "      <td>1.00</td>\n",
       "      <td>0.00</td>\n",
       "      <td>0.0</td>\n",
       "      <td>0.0</td>\n",
       "      <td>0.0</td>\n",
       "      <td>6.8 x 0.6 x 8.9 inches</td>\n",
       "      <td>1.6 pounds</td>\n",
       "      <td>English</td>\n",
       "      <td>No Starch Press (August 16 2022)</td>\n",
       "      <td>/Recursive-Book-Recursion-Interview-Javascript...</td>\n",
       "      <td>https://www.amazon.com/Recursive-Book-Recursio...</td>\n",
       "    </tr>\n",
       "    <tr>\n",
       "      <th>843</th>\n",
       "      <td>Painless Statistics (Barrons Painless)</td>\n",
       "      <td>[Patrick Honner]</td>\n",
       "      <td>14.99</td>\n",
       "      <td>320.0</td>\n",
       "      <td>5.0</td>\n",
       "      <td>4</td>\n",
       "      <td>1.00</td>\n",
       "      <td>0.00</td>\n",
       "      <td>0.0</td>\n",
       "      <td>0.0</td>\n",
       "      <td>0.0</td>\n",
       "      <td>6 x 0.7 x 9 inches</td>\n",
       "      <td>15.2 ounces</td>\n",
       "      <td>English</td>\n",
       "      <td>In the 1930s Manuel H. Barron opened a bookst...</td>\n",
       "      <td>/Painless-Statistics-Barrons-Patrick-Honner/dp...</td>\n",
       "      <td>https://www.amazon.com/Painless-Statistics-Bar...</td>\n",
       "    </tr>\n",
       "    <tr>\n",
       "      <th>884</th>\n",
       "      <td>Statistics Made Simple for School Leaders: A N...</td>\n",
       "      <td>[Susan Rovezzi Carroll,David J. Carroll]</td>\n",
       "      <td>35.00</td>\n",
       "      <td>140.0</td>\n",
       "      <td>5.0</td>\n",
       "      <td>1</td>\n",
       "      <td>1.00</td>\n",
       "      <td>0.00</td>\n",
       "      <td>0.0</td>\n",
       "      <td>0.0</td>\n",
       "      <td>0.0</td>\n",
       "      <td>6.04 x 0.41 x 8.64 inches</td>\n",
       "      <td>7.7 ounces</td>\n",
       "      <td>English</td>\n",
       "      <td>Rowman &amp; Littlefield Publishers; 3rd edition (...</td>\n",
       "      <td>/Statistics-Made-Simple-School-Leaders/dp/1475...</td>\n",
       "      <td>https://www.amazon.com/Statistics-Made-Simple-...</td>\n",
       "    </tr>\n",
       "    <tr>\n",
       "      <th>938</th>\n",
       "      <td>Even You Can Learn Statistics and Analytics: A...</td>\n",
       "      <td>[David M Levine,David F Stephan]</td>\n",
       "      <td>33.94</td>\n",
       "      <td>392.0</td>\n",
       "      <td>5.0</td>\n",
       "      <td>2</td>\n",
       "      <td>1.00</td>\n",
       "      <td>0.00</td>\n",
       "      <td>0.0</td>\n",
       "      <td>0.0</td>\n",
       "      <td>0.0</td>\n",
       "      <td>7 x 0.89 x 9.13 inches</td>\n",
       "      <td>1.4 pounds</td>\n",
       "      <td>English</td>\n",
       "      <td>Addison-Wesley Professional; 4th edition (May ...</td>\n",
       "      <td>/Even-You-Learn-Statistics-Analytics/dp/013765...</td>\n",
       "      <td>https://www.amazon.com/Even-You-Learn-Statisti...</td>\n",
       "    </tr>\n",
       "  </tbody>\n",
       "</table>\n",
       "<p>70 rows × 17 columns</p>\n",
       "</div>"
      ],
      "text/plain": [
       "                                                 title  \\\n",
       "2    Fundamentals of Data Engineering: Plan and Bui...   \n",
       "22   Effective Data Science Infrastructure: How to ...   \n",
       "27   Be Data Driven: How Organizations Can Harness ...   \n",
       "33   Python for Data Analysis: Data Wrangling with ...   \n",
       "45   Data Science Ethics: Concepts Techniques and C...   \n",
       "..                                                 ...   \n",
       "799  Hands-On Data Preprocessing in Python: Learn h...   \n",
       "817  The Recursive Book of Recursion: Ace the Codin...   \n",
       "843             Painless Statistics (Barrons Painless)   \n",
       "884  Statistics Made Simple for School Leaders: A N...   \n",
       "938  Even You Can Learn Statistics and Analytics: A...   \n",
       "\n",
       "                                       author  price  pages  avg_reviews  \\\n",
       "2                     [Joe Reis,Matt Housley]  50.76  446.0          5.0   \n",
       "22                             [Ville Tuulos]  49.99  352.0          5.0   \n",
       "27                            [Jordan Morrow]  34.99  240.0          5.0   \n",
       "33                             [Wes McKinney]  62.99  579.0          5.0   \n",
       "45                            [David Martens]  37.20  272.0          5.0   \n",
       "..                                        ...    ...    ...          ...   \n",
       "799                              [Roy Jafari]  49.99  602.0          5.0   \n",
       "817                             [Al Sweigart]  36.94  328.0          5.0   \n",
       "843                          [Patrick Honner]  14.99  320.0          5.0   \n",
       "884  [Susan Rovezzi Carroll,David J. Carroll]  35.00  140.0          5.0   \n",
       "938          [David M Levine,David F Stephan]  33.94  392.0          5.0   \n",
       "\n",
       "     n_reviews  star5  star4  star3  star2  star1                 dimensions  \\\n",
       "2           33   0.96   0.04    0.0    0.0    0.0        7 x 1 x 9.25 inches   \n",
       "22           5   1.00   0.00    0.0    0.0    0.0   7.38 x 0.8 x 9.25 inches   \n",
       "27           1   1.00   0.00    0.0    0.0    0.0  6.14 x 0.55 x 9.21 inches   \n",
       "33           1   1.00   0.00    0.0    0.0    0.0     9.1 x 1.2 x 6.9 inches   \n",
       "45           2   1.00   0.00    0.0    0.0    0.0     9.4 x 0.6 x 6.2 inches   \n",
       "..         ...    ...    ...    ...    ...    ...                        ...   \n",
       "799         17   1.00   0.00    0.0    0.0    0.0   7.5 x 1.36 x 9.25 inches   \n",
       "817          6   1.00   0.00    0.0    0.0    0.0     6.8 x 0.6 x 8.9 inches   \n",
       "843          4   1.00   0.00    0.0    0.0    0.0         6 x 0.7 x 9 inches   \n",
       "884          1   1.00   0.00    0.0    0.0    0.0  6.04 x 0.41 x 8.64 inches   \n",
       "938          2   1.00   0.00    0.0    0.0    0.0     7 x 0.89 x 9.13 inches   \n",
       "\n",
       "          weight language                                          publisher  \\\n",
       "2    1.57 pounds  English          OReilly Media; 1st edition (July 26 2022)   \n",
       "22   1.15 pounds  English                           Manning (August 16 2022)   \n",
       "27     12 ounces  English           Kogan Page; 1st edition (August 30 2022)   \n",
       "33   2.07 pounds  English     OReilly Media; 3rd edition (September 20 2022)   \n",
       "45   15.5 ounces  English             Oxford University Press (June 24 2022)   \n",
       "..           ...      ...                                                ...   \n",
       "799  2.25 pounds  English                 Packt Publishing (January 21 2022)   \n",
       "817   1.6 pounds  English                   No Starch Press (August 16 2022)   \n",
       "843  15.2 ounces  English   In the 1930s Manuel H. Barron opened a bookst...   \n",
       "884   7.7 ounces  English  Rowman & Littlefield Publishers; 3rd edition (...   \n",
       "938   1.4 pounds  English  Addison-Wesley Professional; 4th edition (May ...   \n",
       "\n",
       "                                                  link  \\\n",
       "2    /Fundamentals-Data-Engineering-Robust-Systems/...   \n",
       "22   /Effective-Data-Science-Infrastructure-scienti...   \n",
       "27   /Be-Data-Driven-Organizations-Harness/dp/13986...   \n",
       "33   /Python-Data-Analysis-Wrangling-Jupyter/dp/109...   \n",
       "45   /Data-Science-Ethics-Techniques-Cautionary/dp/...   \n",
       "..                                                 ...   \n",
       "799  /gp/slredirect/picassoRedirect.html/ref=pa_sp_...   \n",
       "817  /Recursive-Book-Recursion-Interview-Javascript...   \n",
       "843  /Painless-Statistics-Barrons-Patrick-Honner/dp...   \n",
       "884  /Statistics-Made-Simple-School-Leaders/dp/1475...   \n",
       "938  /Even-You-Learn-Statistics-Analytics/dp/013765...   \n",
       "\n",
       "                                         complete_link  \n",
       "2    https://www.amazon.com/Fundamentals-Data-Engin...  \n",
       "22   https://www.amazon.com/Effective-Data-Science-...  \n",
       "27   https://www.amazon.com/Be-Data-Driven-Organiza...  \n",
       "33   https://www.amazon.com/Python-Data-Analysis-Wr...  \n",
       "45   https://www.amazon.com/Data-Science-Ethics-Tec...  \n",
       "..                                                 ...  \n",
       "799  https://www.amazon.com/gp/slredirect/picassoRe...  \n",
       "817  https://www.amazon.com/Recursive-Book-Recursio...  \n",
       "843  https://www.amazon.com/Painless-Statistics-Bar...  \n",
       "884  https://www.amazon.com/Statistics-Made-Simple-...  \n",
       "938  https://www.amazon.com/Even-You-Learn-Statisti...  \n",
       "\n",
       "[70 rows x 17 columns]"
      ]
     },
     "execution_count": 116,
     "metadata": {},
     "output_type": "execute_result"
    }
   ],
   "source": [
    "reviews_max = df[df['avg_reviews'] == df['avg_reviews'].max()]\n",
    "reviews_max"
   ]
  },
  {
   "cell_type": "code",
   "execution_count": 117,
   "id": "6a236cba",
   "metadata": {},
   "outputs": [
    {
     "data": {
      "text/plain": [
       "(70, 17)"
      ]
     },
     "execution_count": 117,
     "metadata": {},
     "output_type": "execute_result"
    }
   ],
   "source": [
    "reviews_max.shape"
   ]
  },
  {
   "cell_type": "code",
   "execution_count": 108,
   "id": "c1804765",
   "metadata": {},
   "outputs": [
    {
     "data": {
      "text/plain": [
       "5.0    69\n",
       "4.0     3\n",
       "1.0     1\n",
       "2.0     1\n",
       "3.0     1\n",
       "Name: avg_reviews, dtype: int64"
      ]
     },
     "execution_count": 108,
     "metadata": {},
     "output_type": "execute_result"
    }
   ],
   "source": [
    "df[df['star5'] == df['star5'].max()]['avg_reviews'].value_counts()"
   ]
  },
  {
   "cell_type": "markdown",
   "id": "ab3bb3dd",
   "metadata": {},
   "source": [
    "### Tampak ada 6 data yang salah karena jika mendapatkan persentase 100% pada star5, maka seharusnya avg_reviews nya bernilai 5.0"
   ]
  },
  {
   "cell_type": "code",
   "execution_count": 113,
   "id": "a9cc7429",
   "metadata": {},
   "outputs": [
    {
     "data": {
      "text/html": [
       "<div>\n",
       "<style scoped>\n",
       "    .dataframe tbody tr th:only-of-type {\n",
       "        vertical-align: middle;\n",
       "    }\n",
       "\n",
       "    .dataframe tbody tr th {\n",
       "        vertical-align: top;\n",
       "    }\n",
       "\n",
       "    .dataframe thead th {\n",
       "        text-align: right;\n",
       "    }\n",
       "</style>\n",
       "<table border=\"1\" class=\"dataframe\">\n",
       "  <thead>\n",
       "    <tr style=\"text-align: right;\">\n",
       "      <th></th>\n",
       "      <th>title</th>\n",
       "      <th>author</th>\n",
       "      <th>price</th>\n",
       "      <th>pages</th>\n",
       "      <th>avg_reviews</th>\n",
       "      <th>n_reviews</th>\n",
       "      <th>star5</th>\n",
       "      <th>star4</th>\n",
       "      <th>star3</th>\n",
       "      <th>star2</th>\n",
       "      <th>star1</th>\n",
       "      <th>dimensions</th>\n",
       "      <th>weight</th>\n",
       "      <th>language</th>\n",
       "      <th>publisher</th>\n",
       "      <th>link</th>\n",
       "      <th>complete_link</th>\n",
       "    </tr>\n",
       "  </thead>\n",
       "  <tbody>\n",
       "    <tr>\n",
       "      <th>2</th>\n",
       "      <td>Fundamentals of Data Engineering: Plan and Bui...</td>\n",
       "      <td>[Joe Reis,Matt Housley]</td>\n",
       "      <td>50.76</td>\n",
       "      <td>446.0</td>\n",
       "      <td>5.0</td>\n",
       "      <td>33</td>\n",
       "      <td>0.96</td>\n",
       "      <td>0.04</td>\n",
       "      <td>0.0</td>\n",
       "      <td>0.0</td>\n",
       "      <td>0.0</td>\n",
       "      <td>7 x 1 x 9.25 inches</td>\n",
       "      <td>1.57 pounds</td>\n",
       "      <td>English</td>\n",
       "      <td>OReilly Media; 1st edition (July 26 2022)</td>\n",
       "      <td>/Fundamentals-Data-Engineering-Robust-Systems/...</td>\n",
       "      <td>https://www.amazon.com/Fundamentals-Data-Engin...</td>\n",
       "    </tr>\n",
       "    <tr>\n",
       "      <th>160</th>\n",
       "      <td>Applied Data Science: Lessons Learned for the ...</td>\n",
       "      <td>[Martin Braschler,Thilo Stadelmann et al.]</td>\n",
       "      <td>179.99</td>\n",
       "      <td>478.0</td>\n",
       "      <td>1.0</td>\n",
       "      <td>1</td>\n",
       "      <td>1.00</td>\n",
       "      <td>0.00</td>\n",
       "      <td>0.0</td>\n",
       "      <td>0.0</td>\n",
       "      <td>0.0</td>\n",
       "      <td>6.14 x 1.06 x 9.21 inches</td>\n",
       "      <td>1.94 pounds</td>\n",
       "      <td>English</td>\n",
       "      <td>Springer; 1st ed. 2019 edition (June 25 2019)</td>\n",
       "      <td>/Applied-Data-Science-Data-Driven-Business/dp/...</td>\n",
       "      <td>https://www.amazon.com/Applied-Data-Science-Da...</td>\n",
       "    </tr>\n",
       "    <tr>\n",
       "      <th>480</th>\n",
       "      <td>Deep Learning Pipeline: Building a Deep Learni...</td>\n",
       "      <td>[Hisham El-Amir,Mahmoud Hamdy]</td>\n",
       "      <td>15.43</td>\n",
       "      <td>580.0</td>\n",
       "      <td>2.0</td>\n",
       "      <td>1</td>\n",
       "      <td>1.00</td>\n",
       "      <td>0.00</td>\n",
       "      <td>0.0</td>\n",
       "      <td>0.0</td>\n",
       "      <td>0.0</td>\n",
       "      <td>6.1 x 1.31 x 9.25 inches</td>\n",
       "      <td>1.94 pounds</td>\n",
       "      <td>English</td>\n",
       "      <td>Apress; 1st ed. edition (December 21 2019)</td>\n",
       "      <td>/Deep-Learning-Pipeline-Building-TensorFlow/dp...</td>\n",
       "      <td>https://www.amazon.com/Deep-Learning-Pipeline-...</td>\n",
       "    </tr>\n",
       "    <tr>\n",
       "      <th>525</th>\n",
       "      <td>Deep Learning with Python: Learn Best Practice...</td>\n",
       "      <td>[Nikhil Ketkar,Jojo Moolayil]</td>\n",
       "      <td>32.99</td>\n",
       "      <td>324.0</td>\n",
       "      <td>4.0</td>\n",
       "      <td>2</td>\n",
       "      <td>1.00</td>\n",
       "      <td>0.00</td>\n",
       "      <td>0.0</td>\n",
       "      <td>0.0</td>\n",
       "      <td>0.0</td>\n",
       "      <td>6.1 x 0.73 x 9.25 inches</td>\n",
       "      <td>1.1 pounds</td>\n",
       "      <td>English</td>\n",
       "      <td>Apress; 2nd ed. edition (April 10 2021)</td>\n",
       "      <td>/Deep-Learning-Python-Practices-PyTorch/dp/148...</td>\n",
       "      <td>https://www.amazon.com/Deep-Learning-Python-Pr...</td>\n",
       "    </tr>\n",
       "    <tr>\n",
       "      <th>557</th>\n",
       "      <td>Hands-On Deep Learning with Apache Spark: Buil...</td>\n",
       "      <td>[Guglielmo Iozzia]</td>\n",
       "      <td>46.99</td>\n",
       "      <td>322.0</td>\n",
       "      <td>4.0</td>\n",
       "      <td>1</td>\n",
       "      <td>1.00</td>\n",
       "      <td>0.00</td>\n",
       "      <td>0.0</td>\n",
       "      <td>0.0</td>\n",
       "      <td>0.0</td>\n",
       "      <td>7.5 x 0.73 x 9.25 inches</td>\n",
       "      <td>1.22 pounds</td>\n",
       "      <td>English</td>\n",
       "      <td>Packt Publishing (January 31 2019)</td>\n",
       "      <td>/sspa/click?ie=UTF8&amp;spc=MTozNjU4MTEyNDI0ODc2MT...</td>\n",
       "      <td>https://www.amazon.com/sspa/click?ie=UTF8&amp;spc=...</td>\n",
       "    </tr>\n",
       "    <tr>\n",
       "      <th>882</th>\n",
       "      <td>Modern Mathematical Statistics with Applicatio...</td>\n",
       "      <td>[Jay L. Devore,Kenneth N. Berk et al.]</td>\n",
       "      <td>121.11</td>\n",
       "      <td>988.0</td>\n",
       "      <td>4.0</td>\n",
       "      <td>1</td>\n",
       "      <td>1.00</td>\n",
       "      <td>0.00</td>\n",
       "      <td>0.0</td>\n",
       "      <td>0.0</td>\n",
       "      <td>0.0</td>\n",
       "      <td>7.8 x 1.6 x 10.2 inches</td>\n",
       "      <td>4.98 pounds</td>\n",
       "      <td>English</td>\n",
       "      <td>Springer; 3rd ed. 2021 edition (April 30 2021)</td>\n",
       "      <td>/Modern-Mathematical-Statistics-Applications-S...</td>\n",
       "      <td>https://www.amazon.com/Modern-Mathematical-Sta...</td>\n",
       "    </tr>\n",
       "    <tr>\n",
       "      <th>914</th>\n",
       "      <td>Statistics and Probability with Applications (...</td>\n",
       "      <td>[Daren S. Starnes,Josh Tabor et al.]</td>\n",
       "      <td>158.99</td>\n",
       "      <td>864.0</td>\n",
       "      <td>3.0</td>\n",
       "      <td>1</td>\n",
       "      <td>1.00</td>\n",
       "      <td>0.00</td>\n",
       "      <td>0.0</td>\n",
       "      <td>0.0</td>\n",
       "      <td>0.0</td>\n",
       "      <td>8.5 x 1 x 10.88 inches</td>\n",
       "      <td>3.98 pounds</td>\n",
       "      <td>English</td>\n",
       "      <td>W. H. Freeman; Fourth edition (January 15 2021)</td>\n",
       "      <td>/Statistics-Probability-Applications-High-Scho...</td>\n",
       "      <td>https://www.amazon.com/Statistics-Probability-...</td>\n",
       "    </tr>\n",
       "  </tbody>\n",
       "</table>\n",
       "</div>"
      ],
      "text/plain": [
       "                                                 title  \\\n",
       "2    Fundamentals of Data Engineering: Plan and Bui...   \n",
       "160  Applied Data Science: Lessons Learned for the ...   \n",
       "480  Deep Learning Pipeline: Building a Deep Learni...   \n",
       "525  Deep Learning with Python: Learn Best Practice...   \n",
       "557  Hands-On Deep Learning with Apache Spark: Buil...   \n",
       "882  Modern Mathematical Statistics with Applicatio...   \n",
       "914  Statistics and Probability with Applications (...   \n",
       "\n",
       "                                         author   price  pages  avg_reviews  \\\n",
       "2                       [Joe Reis,Matt Housley]   50.76  446.0          5.0   \n",
       "160  [Martin Braschler,Thilo Stadelmann et al.]  179.99  478.0          1.0   \n",
       "480              [Hisham El-Amir,Mahmoud Hamdy]   15.43  580.0          2.0   \n",
       "525               [Nikhil Ketkar,Jojo Moolayil]   32.99  324.0          4.0   \n",
       "557                          [Guglielmo Iozzia]   46.99  322.0          4.0   \n",
       "882      [Jay L. Devore,Kenneth N. Berk et al.]  121.11  988.0          4.0   \n",
       "914        [Daren S. Starnes,Josh Tabor et al.]  158.99  864.0          3.0   \n",
       "\n",
       "     n_reviews  star5  star4  star3  star2  star1                 dimensions  \\\n",
       "2           33   0.96   0.04    0.0    0.0    0.0        7 x 1 x 9.25 inches   \n",
       "160          1   1.00   0.00    0.0    0.0    0.0  6.14 x 1.06 x 9.21 inches   \n",
       "480          1   1.00   0.00    0.0    0.0    0.0   6.1 x 1.31 x 9.25 inches   \n",
       "525          2   1.00   0.00    0.0    0.0    0.0   6.1 x 0.73 x 9.25 inches   \n",
       "557          1   1.00   0.00    0.0    0.0    0.0   7.5 x 0.73 x 9.25 inches   \n",
       "882          1   1.00   0.00    0.0    0.0    0.0    7.8 x 1.6 x 10.2 inches   \n",
       "914          1   1.00   0.00    0.0    0.0    0.0     8.5 x 1 x 10.88 inches   \n",
       "\n",
       "          weight language                                        publisher  \\\n",
       "2    1.57 pounds  English        OReilly Media; 1st edition (July 26 2022)   \n",
       "160  1.94 pounds  English    Springer; 1st ed. 2019 edition (June 25 2019)   \n",
       "480  1.94 pounds  English       Apress; 1st ed. edition (December 21 2019)   \n",
       "525   1.1 pounds  English          Apress; 2nd ed. edition (April 10 2021)   \n",
       "557  1.22 pounds  English               Packt Publishing (January 31 2019)   \n",
       "882  4.98 pounds  English   Springer; 3rd ed. 2021 edition (April 30 2021)   \n",
       "914  3.98 pounds  English  W. H. Freeman; Fourth edition (January 15 2021)   \n",
       "\n",
       "                                                  link  \\\n",
       "2    /Fundamentals-Data-Engineering-Robust-Systems/...   \n",
       "160  /Applied-Data-Science-Data-Driven-Business/dp/...   \n",
       "480  /Deep-Learning-Pipeline-Building-TensorFlow/dp...   \n",
       "525  /Deep-Learning-Python-Practices-PyTorch/dp/148...   \n",
       "557  /sspa/click?ie=UTF8&spc=MTozNjU4MTEyNDI0ODc2MT...   \n",
       "882  /Modern-Mathematical-Statistics-Applications-S...   \n",
       "914  /Statistics-Probability-Applications-High-Scho...   \n",
       "\n",
       "                                         complete_link  \n",
       "2    https://www.amazon.com/Fundamentals-Data-Engin...  \n",
       "160  https://www.amazon.com/Applied-Data-Science-Da...  \n",
       "480  https://www.amazon.com/Deep-Learning-Pipeline-...  \n",
       "525  https://www.amazon.com/Deep-Learning-Python-Pr...  \n",
       "557  https://www.amazon.com/sspa/click?ie=UTF8&spc=...  \n",
       "882  https://www.amazon.com/Modern-Mathematical-Sta...  \n",
       "914  https://www.amazon.com/Statistics-Probability-...  "
      ]
     },
     "execution_count": 113,
     "metadata": {},
     "output_type": "execute_result"
    }
   ],
   "source": [
    "rating_salah = df.loc[(df['avg_reviews'] == 5.0) ^ (df['star5'] == 1.0)]\n",
    "rating_salah"
   ]
  },
  {
   "cell_type": "markdown",
   "id": "f6710f40",
   "metadata": {},
   "source": [
    "### Data tersebut adalah data yang salah karena average review tidak sesuai dengan persentase star5 nya"
   ]
  },
  {
   "cell_type": "code",
   "execution_count": 94,
   "id": "b933b087",
   "metadata": {},
   "outputs": [
    {
     "data": {
      "text/plain": [
       "1     27\n",
       "2     15\n",
       "6      7\n",
       "4      7\n",
       "3      6\n",
       "8      4\n",
       "7      3\n",
       "5      2\n",
       "9      1\n",
       "14     1\n",
       "13     1\n",
       "17     1\n",
       "Name: n_reviews, dtype: int64"
      ]
     },
     "execution_count": 94,
     "metadata": {},
     "output_type": "execute_result"
    }
   ],
   "source": [
    "df[df['star5'] == df['star5'].max()]['n_reviews'].value_counts()"
   ]
  },
  {
   "cell_type": "markdown",
   "id": "569e6bf4",
   "metadata": {},
   "source": [
    "### Tampak bahwa sebagian besar yang mendapatkan rata-rata rating maksimum 5.0 hanya memiliki sedikit review\n",
    "### Artinya, rata-rata rating 5.0 belum cukup valid untuk mewakili kualitas buku tersebut karena sedikitnya jumlah reviewer"
   ]
  },
  {
   "cell_type": "markdown",
   "id": "4f0155e0",
   "metadata": {},
   "source": [
    "# 2. Mencari publisher dan author yang paling populer"
   ]
  },
  {
   "cell_type": "code",
   "execution_count": 25,
   "id": "f2322680",
   "metadata": {},
   "outputs": [
    {
     "data": {
      "text/plain": [
       "Packt Publishing (July 29 2022)                                   4\n",
       "Packt Publishing (April 29 2022)                                  4\n",
       "Packt Publishing (January 21 2022)                                3\n",
       "Packt Publishing (March 29 2019)                                  3\n",
       "Packt Publishing (November 30 2018)                               3\n",
       "                                                                 ..\n",
       "OReilly Media; 2nd edition (August 25 2020)                       1\n",
       "CreateSpace Independent Publishing Platform (February 19 2016)    1\n",
       "SAS Institute; 3rd edition (October 18 2019)                      1\n",
       "OReilly Media; 2nd edition (January 8 2019)                       1\n",
       "For Dummies; 1st edition (January 29 2013)                        1\n",
       "Name: publisher, Length: 650, dtype: int64"
      ]
     },
     "execution_count": 25,
     "metadata": {},
     "output_type": "execute_result"
    }
   ],
   "source": [
    "df['publisher'].value_counts()"
   ]
  },
  {
   "cell_type": "code",
   "execution_count": 26,
   "id": "a9c8358f",
   "metadata": {},
   "outputs": [
    {
     "data": {
      "text/plain": [
       "[ERICK THOMPSON]                          5\n",
       "[Yves Hilpisch]                           4\n",
       "[Al Sweigart]                             4\n",
       "[Denis Rothman]                           3\n",
       "[Jim Frost]                               3\n",
       "                                         ..\n",
       "[Jules Damji,Brooke Wenig et al.]         1\n",
       "[Daniel Covington]                        1\n",
       "[Robert Carver]                           1\n",
       "[Roger S. Bivand,Edzer Pebesma et al.]    1\n",
       "[Donncha Hanna,Martin Dempster]           1\n",
       "Name: author, Length: 653, dtype: int64"
      ]
     },
     "execution_count": 26,
     "metadata": {},
     "output_type": "execute_result"
    }
   ],
   "source": [
    "df['author'].value_counts()"
   ]
  },
  {
   "cell_type": "markdown",
   "id": "8cc98793",
   "metadata": {},
   "source": [
    "### Tampak bahwa penulis yang paling banyak menulis buku di sini adalah Erick Thompson"
   ]
  },
  {
   "cell_type": "code",
   "execution_count": 27,
   "id": "6ca5a74d",
   "metadata": {},
   "outputs": [
    {
     "data": {
      "text/plain": [
       "'CareerCup; 6th edition (July 1 2015)'"
      ]
     },
     "execution_count": 27,
     "metadata": {},
     "output_type": "execute_result"
    }
   ],
   "source": [
    "most_review_publisher = df.loc[df['title'] == most_review, 'publisher'].iloc[0]\n",
    "most_review_publisher"
   ]
  },
  {
   "cell_type": "code",
   "execution_count": 28,
   "id": "c43267df",
   "metadata": {},
   "outputs": [],
   "source": [
    "# min_review_title = df.loc[df['n_reviews'] == df['n_reviews'].min(), 'title'].iloc[0]\n",
    "# df.loc[df['title'] == min_review_title, 'publisher'].iloc[0]"
   ]
  },
  {
   "cell_type": "code",
   "execution_count": 29,
   "id": "c4dd0a28",
   "metadata": {},
   "outputs": [
    {
     "data": {
      "text/plain": [
       "'[Gayle Laakmann McDowell]'"
      ]
     },
     "execution_count": 29,
     "metadata": {},
     "output_type": "execute_result"
    }
   ],
   "source": [
    "most_review_author = df.loc[df['title'] == most_review, 'author'].iloc[0]\n",
    "most_review_author"
   ]
  },
  {
   "cell_type": "code",
   "execution_count": 30,
   "id": "102af97d",
   "metadata": {},
   "outputs": [],
   "source": [
    "# df.loc[df['title'] == min_review_title, 'author'].iloc[0]"
   ]
  },
  {
   "cell_type": "code",
   "execution_count": 31,
   "id": "915b4db7",
   "metadata": {},
   "outputs": [
    {
     "data": {
      "text/plain": [
       "1"
      ]
     },
     "execution_count": 31,
     "metadata": {},
     "output_type": "execute_result"
    }
   ],
   "source": [
    "df[df['author'] == most_review_author]['title'].count()"
   ]
  },
  {
   "cell_type": "markdown",
   "id": "1236ddd6",
   "metadata": {},
   "source": [
    "#### Ternyata author yang bukunya paling banyak direview hanya membuat 1 buku saja"
   ]
  },
  {
   "cell_type": "code",
   "execution_count": 32,
   "id": "6064c715",
   "metadata": {},
   "outputs": [
    {
     "data": {
      "text/plain": [
       "1"
      ]
     },
     "execution_count": 32,
     "metadata": {},
     "output_type": "execute_result"
    }
   ],
   "source": [
    "df[df['author'] == most_review_author]['title'].count()"
   ]
  },
  {
   "cell_type": "markdown",
   "id": "db035eb5",
   "metadata": {},
   "source": [
    "#### Ternyata publisher yang bukunya paling banyak direview hanya mempublish 1 buku saja"
   ]
  },
  {
   "cell_type": "code",
   "execution_count": 33,
   "id": "08d080bf",
   "metadata": {
    "scrolled": false
   },
   "outputs": [
    {
     "data": {
      "text/html": [
       "<div>\n",
       "<style scoped>\n",
       "    .dataframe tbody tr th:only-of-type {\n",
       "        vertical-align: middle;\n",
       "    }\n",
       "\n",
       "    .dataframe tbody tr th {\n",
       "        vertical-align: top;\n",
       "    }\n",
       "\n",
       "    .dataframe thead th {\n",
       "        text-align: right;\n",
       "    }\n",
       "</style>\n",
       "<table border=\"1\" class=\"dataframe\">\n",
       "  <thead>\n",
       "    <tr style=\"text-align: right;\">\n",
       "      <th></th>\n",
       "      <th>title</th>\n",
       "      <th>author</th>\n",
       "      <th>price</th>\n",
       "      <th>pages</th>\n",
       "      <th>avg_reviews</th>\n",
       "      <th>n_reviews</th>\n",
       "      <th>star5</th>\n",
       "      <th>star4</th>\n",
       "      <th>star3</th>\n",
       "      <th>star2</th>\n",
       "      <th>star1</th>\n",
       "      <th>dimensions</th>\n",
       "      <th>weight</th>\n",
       "      <th>language</th>\n",
       "      <th>publisher</th>\n",
       "      <th>link</th>\n",
       "      <th>complete_link</th>\n",
       "    </tr>\n",
       "  </thead>\n",
       "  <tbody>\n",
       "    <tr>\n",
       "      <th>0</th>\n",
       "      <td>Becoming a Data Head: How to Think Speak and U...</td>\n",
       "      <td>[Alex J. Gutman,Jordan Goldmeier]</td>\n",
       "      <td>24.49</td>\n",
       "      <td>272.0</td>\n",
       "      <td>4.6</td>\n",
       "      <td>184</td>\n",
       "      <td>0.74</td>\n",
       "      <td>0.18</td>\n",
       "      <td>0.05</td>\n",
       "      <td>0.02</td>\n",
       "      <td>0.01</td>\n",
       "      <td>6 x 0.62 x 9 inches</td>\n",
       "      <td>12.5 ounces</td>\n",
       "      <td>English</td>\n",
       "      <td>Wiley; 1st edition (April 23 2021)</td>\n",
       "      <td>/Becoming-Data-Head-Understand-Statistics/dp/1...</td>\n",
       "      <td>https://www.amazon.com/Becoming-Data-Head-Unde...</td>\n",
       "    </tr>\n",
       "    <tr>\n",
       "      <th>1</th>\n",
       "      <td>Ace the Data Science Interview: 201 Real Inter...</td>\n",
       "      <td>[Nick Singh,Kevin Huo]</td>\n",
       "      <td>26.00</td>\n",
       "      <td>301.0</td>\n",
       "      <td>4.5</td>\n",
       "      <td>599</td>\n",
       "      <td>0.77</td>\n",
       "      <td>0.10</td>\n",
       "      <td>0.06</td>\n",
       "      <td>0.03</td>\n",
       "      <td>0.04</td>\n",
       "      <td>7 x 0.68 x 10 inches</td>\n",
       "      <td>1.28 pounds</td>\n",
       "      <td>English</td>\n",
       "      <td>Ace the Data Science Interview (August 16 2021)</td>\n",
       "      <td>/Ace-Data-Science-Interview-Questions/dp/05789...</td>\n",
       "      <td>https://www.amazon.com/Ace-Data-Science-Interv...</td>\n",
       "    </tr>\n",
       "    <tr>\n",
       "      <th>2</th>\n",
       "      <td>Fundamentals of Data Engineering: Plan and Bui...</td>\n",
       "      <td>[Joe Reis,Matt Housley]</td>\n",
       "      <td>50.76</td>\n",
       "      <td>446.0</td>\n",
       "      <td>5.0</td>\n",
       "      <td>33</td>\n",
       "      <td>0.96</td>\n",
       "      <td>0.04</td>\n",
       "      <td>0.00</td>\n",
       "      <td>0.00</td>\n",
       "      <td>0.00</td>\n",
       "      <td>7 x 1 x 9.25 inches</td>\n",
       "      <td>1.57 pounds</td>\n",
       "      <td>English</td>\n",
       "      <td>OReilly Media; 1st edition (July 26 2022)</td>\n",
       "      <td>/Fundamentals-Data-Engineering-Robust-Systems/...</td>\n",
       "      <td>https://www.amazon.com/Fundamentals-Data-Engin...</td>\n",
       "    </tr>\n",
       "    <tr>\n",
       "      <th>3</th>\n",
       "      <td>Essential Math for Data Science: Take Control ...</td>\n",
       "      <td>[Thomas Nield]</td>\n",
       "      <td>44.80</td>\n",
       "      <td>347.0</td>\n",
       "      <td>4.5</td>\n",
       "      <td>27</td>\n",
       "      <td>0.79</td>\n",
       "      <td>0.05</td>\n",
       "      <td>0.05</td>\n",
       "      <td>0.05</td>\n",
       "      <td>0.05</td>\n",
       "      <td>7 x 0.75 x 9 inches</td>\n",
       "      <td>1.23 pounds</td>\n",
       "      <td>English</td>\n",
       "      <td>OReilly Media; 1st edition (July 5 2022)</td>\n",
       "      <td>/Essential-Math-Data-Science-Fundamental/dp/10...</td>\n",
       "      <td>https://www.amazon.com/Essential-Math-Data-Sci...</td>\n",
       "    </tr>\n",
       "    <tr>\n",
       "      <th>4</th>\n",
       "      <td>Data Science for Business: What You Need to Kn...</td>\n",
       "      <td>[Foster Provost,Tom Fawcett]</td>\n",
       "      <td>36.99</td>\n",
       "      <td>413.0</td>\n",
       "      <td>4.5</td>\n",
       "      <td>970</td>\n",
       "      <td>0.71</td>\n",
       "      <td>0.15</td>\n",
       "      <td>0.08</td>\n",
       "      <td>0.03</td>\n",
       "      <td>0.03</td>\n",
       "      <td>7 x 0.9 x 9.19 inches</td>\n",
       "      <td>1.5 pounds</td>\n",
       "      <td>English</td>\n",
       "      <td>OReilly Media; 1st edition (September 17 2013)</td>\n",
       "      <td>/Data-Science-Business-Data-Analytic-Thinking/...</td>\n",
       "      <td>https://www.amazon.com/Data-Science-Business-D...</td>\n",
       "    </tr>\n",
       "  </tbody>\n",
       "</table>\n",
       "</div>"
      ],
      "text/plain": [
       "                                               title  \\\n",
       "0  Becoming a Data Head: How to Think Speak and U...   \n",
       "1  Ace the Data Science Interview: 201 Real Inter...   \n",
       "2  Fundamentals of Data Engineering: Plan and Bui...   \n",
       "3  Essential Math for Data Science: Take Control ...   \n",
       "4  Data Science for Business: What You Need to Kn...   \n",
       "\n",
       "                              author  price  pages  avg_reviews  n_reviews  \\\n",
       "0  [Alex J. Gutman,Jordan Goldmeier]  24.49  272.0          4.6        184   \n",
       "1             [Nick Singh,Kevin Huo]  26.00  301.0          4.5        599   \n",
       "2            [Joe Reis,Matt Housley]  50.76  446.0          5.0         33   \n",
       "3                     [Thomas Nield]  44.80  347.0          4.5         27   \n",
       "4       [Foster Provost,Tom Fawcett]  36.99  413.0          4.5        970   \n",
       "\n",
       "   star5  star4  star3  star2  star1             dimensions       weight  \\\n",
       "0   0.74   0.18   0.05   0.02   0.01    6 x 0.62 x 9 inches  12.5 ounces   \n",
       "1   0.77   0.10   0.06   0.03   0.04   7 x 0.68 x 10 inches  1.28 pounds   \n",
       "2   0.96   0.04   0.00   0.00   0.00    7 x 1 x 9.25 inches  1.57 pounds   \n",
       "3   0.79   0.05   0.05   0.05   0.05    7 x 0.75 x 9 inches  1.23 pounds   \n",
       "4   0.71   0.15   0.08   0.03   0.03  7 x 0.9 x 9.19 inches   1.5 pounds   \n",
       "\n",
       "  language                                        publisher  \\\n",
       "0  English               Wiley; 1st edition (April 23 2021)   \n",
       "1  English  Ace the Data Science Interview (August 16 2021)   \n",
       "2  English        OReilly Media; 1st edition (July 26 2022)   \n",
       "3  English         OReilly Media; 1st edition (July 5 2022)   \n",
       "4  English   OReilly Media; 1st edition (September 17 2013)   \n",
       "\n",
       "                                                link  \\\n",
       "0  /Becoming-Data-Head-Understand-Statistics/dp/1...   \n",
       "1  /Ace-Data-Science-Interview-Questions/dp/05789...   \n",
       "2  /Fundamentals-Data-Engineering-Robust-Systems/...   \n",
       "3  /Essential-Math-Data-Science-Fundamental/dp/10...   \n",
       "4  /Data-Science-Business-Data-Analytic-Thinking/...   \n",
       "\n",
       "                                       complete_link  \n",
       "0  https://www.amazon.com/Becoming-Data-Head-Unde...  \n",
       "1  https://www.amazon.com/Ace-Data-Science-Interv...  \n",
       "2  https://www.amazon.com/Fundamentals-Data-Engin...  \n",
       "3  https://www.amazon.com/Essential-Math-Data-Sci...  \n",
       "4  https://www.amazon.com/Data-Science-Business-D...  "
      ]
     },
     "execution_count": 33,
     "metadata": {},
     "output_type": "execute_result"
    }
   ],
   "source": [
    "df.head(5)"
   ]
  },
  {
   "cell_type": "markdown",
   "id": "63e48b78",
   "metadata": {},
   "source": [
    "# 3. Bahasa apa yang paling sering digunakan?"
   ]
  },
  {
   "cell_type": "code",
   "execution_count": 34,
   "id": "0b9a2c25",
   "metadata": {},
   "outputs": [
    {
     "data": {
      "text/plain": [
       "array(['English', 'Spanish'], dtype=object)"
      ]
     },
     "execution_count": 34,
     "metadata": {},
     "output_type": "execute_result"
    }
   ],
   "source": [
    "df['language'].unique()"
   ]
  },
  {
   "cell_type": "code",
   "execution_count": 35,
   "id": "c4d036cc",
   "metadata": {},
   "outputs": [
    {
     "data": {
      "text/plain": [
       "English    697\n",
       "Spanish      1\n",
       "Name: language, dtype: int64"
      ]
     },
     "execution_count": 35,
     "metadata": {},
     "output_type": "execute_result"
    }
   ],
   "source": [
    "df['language'].value_counts()"
   ]
  },
  {
   "cell_type": "code",
   "execution_count": 16,
   "id": "33ace056",
   "metadata": {
    "scrolled": true
   },
   "outputs": [
    {
     "data": {
      "text/html": [
       "<div>\n",
       "<style scoped>\n",
       "    .dataframe tbody tr th:only-of-type {\n",
       "        vertical-align: middle;\n",
       "    }\n",
       "\n",
       "    .dataframe tbody tr th {\n",
       "        vertical-align: top;\n",
       "    }\n",
       "\n",
       "    .dataframe thead th {\n",
       "        text-align: right;\n",
       "    }\n",
       "</style>\n",
       "<table border=\"1\" class=\"dataframe\">\n",
       "  <thead>\n",
       "    <tr style=\"text-align: right;\">\n",
       "      <th></th>\n",
       "      <th>title</th>\n",
       "      <th>author</th>\n",
       "      <th>price</th>\n",
       "      <th>pages</th>\n",
       "      <th>avg_reviews</th>\n",
       "      <th>n_reviews</th>\n",
       "      <th>star5</th>\n",
       "      <th>star4</th>\n",
       "      <th>star3</th>\n",
       "      <th>star2</th>\n",
       "      <th>star1</th>\n",
       "      <th>dimensions</th>\n",
       "      <th>weight</th>\n",
       "      <th>language</th>\n",
       "      <th>publisher</th>\n",
       "      <th>link</th>\n",
       "      <th>complete_link</th>\n",
       "    </tr>\n",
       "  </thead>\n",
       "  <tbody>\n",
       "    <tr>\n",
       "      <th>719</th>\n",
       "      <td>El lenguaje de programaciÃ³n Python de princip...</td>\n",
       "      <td>[Angel Pablo Hinojosa GutiÃ©rrez]</td>\n",
       "      <td>18.83</td>\n",
       "      <td>734.0</td>\n",
       "      <td>5.0</td>\n",
       "      <td>1</td>\n",
       "      <td>1.0</td>\n",
       "      <td>0.0</td>\n",
       "      <td>0.0</td>\n",
       "      <td>0.0</td>\n",
       "      <td>0.0</td>\n",
       "      <td>6.89 x 1.66 x 9.37 inches</td>\n",
       "      <td>3.15 pounds</td>\n",
       "      <td>Spanish</td>\n",
       "      <td>Independently published (July 13 2022)</td>\n",
       "      <td>/lenguaje-programaci%C3%B3n-Python-principio-S...</td>\n",
       "      <td>https://www.amazon.com/lenguaje-programaci%C3%...</td>\n",
       "    </tr>\n",
       "  </tbody>\n",
       "</table>\n",
       "</div>"
      ],
      "text/plain": [
       "                                                 title  \\\n",
       "719  El lenguaje de programaciÃ³n Python de princip...   \n",
       "\n",
       "                                author  price  pages  avg_reviews  n_reviews  \\\n",
       "719  [Angel Pablo Hinojosa GutiÃ©rrez]  18.83  734.0          5.0          1   \n",
       "\n",
       "     star5  star4  star3  star2  star1                 dimensions  \\\n",
       "719    1.0    0.0    0.0    0.0    0.0  6.89 x 1.66 x 9.37 inches   \n",
       "\n",
       "          weight language                               publisher  \\\n",
       "719  3.15 pounds  Spanish  Independently published (July 13 2022)   \n",
       "\n",
       "                                                  link  \\\n",
       "719  /lenguaje-programaci%C3%B3n-Python-principio-S...   \n",
       "\n",
       "                                         complete_link  \n",
       "719  https://www.amazon.com/lenguaje-programaci%C3%...  "
      ]
     },
     "execution_count": 16,
     "metadata": {},
     "output_type": "execute_result"
    }
   ],
   "source": [
    "df.loc[df['language'] == 'Spanish']"
   ]
  },
  {
   "cell_type": "markdown",
   "id": "376451d8",
   "metadata": {},
   "source": [
    "### Tampak bahwa hanya ada 1 buku yang menggunakan bahasa Spanyol dan sisanya menggunakan bahasa Inggris"
   ]
  },
  {
   "cell_type": "code",
   "execution_count": 36,
   "id": "9ac3ebb3",
   "metadata": {},
   "outputs": [],
   "source": [
    "#Cek cara ngegroup language berdasarkan rating"
   ]
  },
  {
   "cell_type": "code",
   "execution_count": 37,
   "id": "46e110f1",
   "metadata": {},
   "outputs": [],
   "source": [
    "# # Mengecek pengaruh test preparation course terhadap math score\n",
    "# plt.figure(figsize = (5,5))\n",
    "# ax = sns.barplot(data = df, x = 'language', y = 'avg_reviews')\n",
    "\n",
    "# # Untuk menampilkan nilai detail di atas bar\n",
    "# for i in ax.containers:\n",
    "#     ax.bar_label(i,)"
   ]
  },
  {
   "cell_type": "markdown",
   "id": "860efdca",
   "metadata": {},
   "source": [
    "# 4. Statistika jumlah halaman buku"
   ]
  },
  {
   "cell_type": "code",
   "execution_count": 38,
   "id": "1e6d2c3e",
   "metadata": {},
   "outputs": [
    {
     "data": {
      "text/plain": [
       "count     698.000000\n",
       "mean      430.237822\n",
       "std       204.349437\n",
       "min        48.000000\n",
       "25%       286.250000\n",
       "50%       392.000000\n",
       "75%       543.500000\n",
       "max      1728.000000\n",
       "Name: pages, dtype: float64"
      ]
     },
     "execution_count": 38,
     "metadata": {},
     "output_type": "execute_result"
    }
   ],
   "source": [
    "df['pages'].describe()"
   ]
  },
  {
   "cell_type": "code",
   "execution_count": 39,
   "id": "2deee269",
   "metadata": {},
   "outputs": [
    {
     "data": {
      "text/plain": [
       "1728.0"
      ]
     },
     "execution_count": 39,
     "metadata": {},
     "output_type": "execute_result"
    }
   ],
   "source": [
    "df['pages'].max()"
   ]
  },
  {
   "cell_type": "code",
   "execution_count": 40,
   "id": "c42f06eb",
   "metadata": {},
   "outputs": [
    {
     "data": {
      "text/plain": [
       "'C++ Programming: Program Design Including Data Structures (MindTap Course List)'"
      ]
     },
     "execution_count": 40,
     "metadata": {},
     "output_type": "execute_result"
    }
   ],
   "source": [
    "df.loc[df['pages'] == df['pages'].max(), 'title'].iloc[0]"
   ]
  },
  {
   "cell_type": "markdown",
   "id": "28278312",
   "metadata": {},
   "source": [
    "#### Buku tersebut memiliki halaman terbanyak, yaitu sebanyak 1728 halaman"
   ]
  },
  {
   "cell_type": "code",
   "execution_count": 41,
   "id": "ccfcb9d1",
   "metadata": {},
   "outputs": [
    {
     "data": {
      "text/plain": [
       "48.0"
      ]
     },
     "execution_count": 41,
     "metadata": {},
     "output_type": "execute_result"
    }
   ],
   "source": [
    "df['pages'].min()"
   ]
  },
  {
   "cell_type": "code",
   "execution_count": 42,
   "id": "8e295c42",
   "metadata": {},
   "outputs": [
    {
     "data": {
      "text/plain": [
       "'How to Work With Probability and Statistics Grades 6-8 (Math How To...)'"
      ]
     },
     "execution_count": 42,
     "metadata": {},
     "output_type": "execute_result"
    }
   ],
   "source": [
    "df.loc[df['pages'] == df['pages'].min(), 'title'].iloc[0]"
   ]
  },
  {
   "cell_type": "markdown",
   "id": "2b1393f5",
   "metadata": {},
   "source": [
    "#### Buku tersebut memiliki halaman paling sedikit, yaitu hanya 48 halaman"
   ]
  },
  {
   "cell_type": "code",
   "execution_count": 43,
   "id": "8e03f4d3",
   "metadata": {},
   "outputs": [
    {
     "data": {
      "text/plain": [
       "<AxesSubplot:xlabel='title', ylabel='pages'>"
      ]
     },
     "execution_count": 43,
     "metadata": {},
     "output_type": "execute_result"
    },
    {
     "data": {
      "image/png": "[encoded data removed]",
      "text/plain": [
       "<Figure size 1500x500 with 1 Axes>"
      ]
     },
     "metadata": {},
     "output_type": "display_data"
    }
   ],
   "source": [
    "plt.figure(figsize = (15,5))\n",
    "sns.scatterplot(data=df, x='title', y='pages')"
   ]
  },
  {
   "cell_type": "code",
   "execution_count": 44,
   "id": "2aee7bf6",
   "metadata": {},
   "outputs": [
    {
     "data": {
      "text/plain": [
       "<AxesSubplot:>"
      ]
     },
     "execution_count": 44,
     "metadata": {},
     "output_type": "execute_result"
    },
    {
     "data": {
      "image/png": "[encoded data removed]",
      "text/plain": [
       "<Figure size 1500x800 with 1 Axes>"
      ]
     },
     "metadata": {},
     "output_type": "display_data"
    }
   ],
   "source": [
    "plt.figure(figsize=(15,8))\n",
    "df['pages'].plot(color = 'orange')"
   ]
  },
  {
   "cell_type": "markdown",
   "id": "c9a806d2",
   "metadata": {},
   "source": [
    "### Tampak bahwa persebaran terbanyak halaman buku ada di sekitar 250 - 750 halaman"
   ]
  },
  {
   "cell_type": "markdown",
   "id": "7863003b",
   "metadata": {},
   "source": [
    "# 5. Bagaimana statistika harga buku?"
   ]
  },
  {
   "cell_type": "code",
   "execution_count": 45,
   "id": "7a28de2f",
   "metadata": {},
   "outputs": [
    {
     "data": {
      "text/plain": [
       "count    698.000000\n",
       "mean      50.454513\n",
       "std       36.399546\n",
       "min        8.990000\n",
       "25%       31.967500\n",
       "50%       41.990000\n",
       "75%       51.840000\n",
       "max      279.950000\n",
       "Name: price, dtype: float64"
      ]
     },
     "execution_count": 45,
     "metadata": {},
     "output_type": "execute_result"
    }
   ],
   "source": [
    "df['price'].describe()"
   ]
  },
  {
   "cell_type": "code",
   "execution_count": 46,
   "id": "11fbdaf3",
   "metadata": {},
   "outputs": [
    {
     "name": "stdout",
     "output_type": "stream",
     "text": [
      "Buku termahal adalah: Using SPSS for Windows and Macintosh (7th Edition) seharga 279.95 dollar\n"
     ]
    }
   ],
   "source": [
    "buku_termahal = df.loc[df['price'] == df['price'].max(), 'title'].iloc[0]\n",
    "harga_termahal = df['price'].max()\n",
    "print(\"Buku termahal adalah:\", buku_termahal, \"seharga\", harga_termahal, \"dollar\")"
   ]
  },
  {
   "cell_type": "code",
   "execution_count": 47,
   "id": "eb4146b9",
   "metadata": {},
   "outputs": [
    {
     "name": "stdout",
     "output_type": "stream",
     "text": [
      "Buku termurah adalah: How to Work With Probability and Statistics Grades 6-8 (Math How To...) seharga 8.99 dollar\n"
     ]
    }
   ],
   "source": [
    "buku_termurah = df.loc[df['price'] == df['price'].min(), 'title'].iloc[0]\n",
    "harga_termurah = df['price'].min()\n",
    "print(\"Buku termurah adalah:\", buku_termurah, \"seharga\", harga_termurah, \"dollar\")"
   ]
  },
  {
   "cell_type": "code",
   "execution_count": 48,
   "id": "a69cec89",
   "metadata": {},
   "outputs": [],
   "source": [
    "# # Mengecek pengaruh test preparation course terhadap math score\n",
    "# plt.figure(figsize = (5,5))\n",
    "# ax = sns.barplot(data = df, x = 'price', y = 'pages')\n",
    "\n",
    "# # Untuk menampilkan nilai detail di atas bar\n",
    "# # for i in ax.containers:\n",
    "# #     ax.bar_label(i,)"
   ]
  },
  {
   "cell_type": "markdown",
   "id": "35bef4c2",
   "metadata": {},
   "source": [
    "# 6. Bagaimana korelasi antara harga buku dengan jumlah halaman buku?"
   ]
  },
  {
   "cell_type": "code",
   "execution_count": 49,
   "id": "5e611879",
   "metadata": {},
   "outputs": [
    {
     "data": {
      "text/plain": [
       "<AxesSubplot:xlabel='pages', ylabel='price'>"
      ]
     },
     "execution_count": 49,
     "metadata": {},
     "output_type": "execute_result"
    },
    {
     "data": {
      "image/png": "[encoded data removed]",
      "text/plain": [
       "<Figure size 1100x600 with 1 Axes>"
      ]
     },
     "metadata": {},
     "output_type": "display_data"
    }
   ],
   "source": [
    "plt.figure(figsize = (11,6))\n",
    "sns.scatterplot(data=df, x='pages', y='price')"
   ]
  },
  {
   "cell_type": "code",
   "execution_count": 50,
   "id": "1323c848",
   "metadata": {},
   "outputs": [
    {
     "data": {
      "text/plain": [
       "0.5092715703487846"
      ]
     },
     "execution_count": 50,
     "metadata": {},
     "output_type": "execute_result"
    }
   ],
   "source": [
    "df['pages'].corr(df['price'])"
   ]
  },
  {
   "cell_type": "code",
   "execution_count": null,
   "id": "2f29b2ef",
   "metadata": {},
   "outputs": [],
   "source": [
    "# Cara lain cari korelasi antar 2 variabel\n",
    "# print('\\nKorelasi BounceRates-ExitRates:', dataset_corr.loc['BounceRates', 'ExitRates'])\n",
    "# print('\\nKorelasi Revenue-PageValues:', dataset_corr.loc['Revenue', 'PageValues'])\n",
    "# print('\\nKorelasi TrafficType-Weekend:', dataset_corr.loc['TrafficType', 'Weekend'])"
   ]
  },
  {
   "cell_type": "markdown",
   "id": "189297fd",
   "metadata": {},
   "source": [
    "# 7. Bagaimana statistika rating buku?"
   ]
  },
  {
   "cell_type": "code",
   "execution_count": 59,
   "id": "8d6c0b79",
   "metadata": {},
   "outputs": [
    {
     "data": {
      "text/html": [
       "<div>\n",
       "<style scoped>\n",
       "    .dataframe tbody tr th:only-of-type {\n",
       "        vertical-align: middle;\n",
       "    }\n",
       "\n",
       "    .dataframe tbody tr th {\n",
       "        vertical-align: top;\n",
       "    }\n",
       "\n",
       "    .dataframe thead th {\n",
       "        text-align: right;\n",
       "    }\n",
       "</style>\n",
       "<table border=\"1\" class=\"dataframe\">\n",
       "  <thead>\n",
       "    <tr style=\"text-align: right;\">\n",
       "      <th></th>\n",
       "      <th>title</th>\n",
       "      <th>author</th>\n",
       "      <th>price</th>\n",
       "      <th>pages</th>\n",
       "      <th>avg_reviews</th>\n",
       "      <th>n_reviews</th>\n",
       "      <th>star5</th>\n",
       "      <th>star4</th>\n",
       "      <th>star3</th>\n",
       "      <th>star2</th>\n",
       "      <th>star1</th>\n",
       "      <th>dimensions</th>\n",
       "      <th>weight</th>\n",
       "      <th>language</th>\n",
       "      <th>publisher</th>\n",
       "      <th>link</th>\n",
       "      <th>complete_link</th>\n",
       "    </tr>\n",
       "  </thead>\n",
       "  <tbody>\n",
       "    <tr>\n",
       "      <th>2</th>\n",
       "      <td>Fundamentals of Data Engineering: Plan and Bui...</td>\n",
       "      <td>[Joe Reis,Matt Housley]</td>\n",
       "      <td>50.76</td>\n",
       "      <td>446.0</td>\n",
       "      <td>5.0</td>\n",
       "      <td>33</td>\n",
       "      <td>0.96</td>\n",
       "      <td>0.04</td>\n",
       "      <td>0.0</td>\n",
       "      <td>0.0</td>\n",
       "      <td>0.0</td>\n",
       "      <td>7 x 1 x 9.25 inches</td>\n",
       "      <td>1.57 pounds</td>\n",
       "      <td>English</td>\n",
       "      <td>OReilly Media; 1st edition (July 26 2022)</td>\n",
       "      <td>/Fundamentals-Data-Engineering-Robust-Systems/...</td>\n",
       "      <td>https://www.amazon.com/Fundamentals-Data-Engin...</td>\n",
       "    </tr>\n",
       "    <tr>\n",
       "      <th>22</th>\n",
       "      <td>Effective Data Science Infrastructure: How to ...</td>\n",
       "      <td>[Ville Tuulos]</td>\n",
       "      <td>49.99</td>\n",
       "      <td>352.0</td>\n",
       "      <td>5.0</td>\n",
       "      <td>5</td>\n",
       "      <td>1.00</td>\n",
       "      <td>0.00</td>\n",
       "      <td>0.0</td>\n",
       "      <td>0.0</td>\n",
       "      <td>0.0</td>\n",
       "      <td>7.38 x 0.8 x 9.25 inches</td>\n",
       "      <td>1.15 pounds</td>\n",
       "      <td>English</td>\n",
       "      <td>Manning (August 16 2022)</td>\n",
       "      <td>/Effective-Data-Science-Infrastructure-scienti...</td>\n",
       "      <td>https://www.amazon.com/Effective-Data-Science-...</td>\n",
       "    </tr>\n",
       "    <tr>\n",
       "      <th>27</th>\n",
       "      <td>Be Data Driven: How Organizations Can Harness ...</td>\n",
       "      <td>[Jordan Morrow]</td>\n",
       "      <td>34.99</td>\n",
       "      <td>240.0</td>\n",
       "      <td>5.0</td>\n",
       "      <td>1</td>\n",
       "      <td>1.00</td>\n",
       "      <td>0.00</td>\n",
       "      <td>0.0</td>\n",
       "      <td>0.0</td>\n",
       "      <td>0.0</td>\n",
       "      <td>6.14 x 0.55 x 9.21 inches</td>\n",
       "      <td>12 ounces</td>\n",
       "      <td>English</td>\n",
       "      <td>Kogan Page; 1st edition (August 30 2022)</td>\n",
       "      <td>/Be-Data-Driven-Organizations-Harness/dp/13986...</td>\n",
       "      <td>https://www.amazon.com/Be-Data-Driven-Organiza...</td>\n",
       "    </tr>\n",
       "    <tr>\n",
       "      <th>33</th>\n",
       "      <td>Python for Data Analysis: Data Wrangling with ...</td>\n",
       "      <td>[Wes McKinney]</td>\n",
       "      <td>62.99</td>\n",
       "      <td>579.0</td>\n",
       "      <td>5.0</td>\n",
       "      <td>1</td>\n",
       "      <td>1.00</td>\n",
       "      <td>0.00</td>\n",
       "      <td>0.0</td>\n",
       "      <td>0.0</td>\n",
       "      <td>0.0</td>\n",
       "      <td>9.1 x 1.2 x 6.9 inches</td>\n",
       "      <td>2.07 pounds</td>\n",
       "      <td>English</td>\n",
       "      <td>OReilly Media; 3rd edition (September 20 2022)</td>\n",
       "      <td>/Python-Data-Analysis-Wrangling-Jupyter/dp/109...</td>\n",
       "      <td>https://www.amazon.com/Python-Data-Analysis-Wr...</td>\n",
       "    </tr>\n",
       "    <tr>\n",
       "      <th>45</th>\n",
       "      <td>Data Science Ethics: Concepts Techniques and C...</td>\n",
       "      <td>[David Martens]</td>\n",
       "      <td>37.20</td>\n",
       "      <td>272.0</td>\n",
       "      <td>5.0</td>\n",
       "      <td>2</td>\n",
       "      <td>1.00</td>\n",
       "      <td>0.00</td>\n",
       "      <td>0.0</td>\n",
       "      <td>0.0</td>\n",
       "      <td>0.0</td>\n",
       "      <td>9.4 x 0.6 x 6.2 inches</td>\n",
       "      <td>15.5 ounces</td>\n",
       "      <td>English</td>\n",
       "      <td>Oxford University Press (June 24 2022)</td>\n",
       "      <td>/Data-Science-Ethics-Techniques-Cautionary/dp/...</td>\n",
       "      <td>https://www.amazon.com/Data-Science-Ethics-Tec...</td>\n",
       "    </tr>\n",
       "    <tr>\n",
       "      <th>...</th>\n",
       "      <td>...</td>\n",
       "      <td>...</td>\n",
       "      <td>...</td>\n",
       "      <td>...</td>\n",
       "      <td>...</td>\n",
       "      <td>...</td>\n",
       "      <td>...</td>\n",
       "      <td>...</td>\n",
       "      <td>...</td>\n",
       "      <td>...</td>\n",
       "      <td>...</td>\n",
       "      <td>...</td>\n",
       "      <td>...</td>\n",
       "      <td>...</td>\n",
       "      <td>...</td>\n",
       "      <td>...</td>\n",
       "      <td>...</td>\n",
       "    </tr>\n",
       "    <tr>\n",
       "      <th>799</th>\n",
       "      <td>Hands-On Data Preprocessing in Python: Learn h...</td>\n",
       "      <td>[Roy Jafari]</td>\n",
       "      <td>49.99</td>\n",
       "      <td>602.0</td>\n",
       "      <td>5.0</td>\n",
       "      <td>17</td>\n",
       "      <td>1.00</td>\n",
       "      <td>0.00</td>\n",
       "      <td>0.0</td>\n",
       "      <td>0.0</td>\n",
       "      <td>0.0</td>\n",
       "      <td>7.5 x 1.36 x 9.25 inches</td>\n",
       "      <td>2.25 pounds</td>\n",
       "      <td>English</td>\n",
       "      <td>Packt Publishing (January 21 2022)</td>\n",
       "      <td>/gp/slredirect/picassoRedirect.html/ref=pa_sp_...</td>\n",
       "      <td>https://www.amazon.com/gp/slredirect/picassoRe...</td>\n",
       "    </tr>\n",
       "    <tr>\n",
       "      <th>817</th>\n",
       "      <td>The Recursive Book of Recursion: Ace the Codin...</td>\n",
       "      <td>[Al Sweigart]</td>\n",
       "      <td>36.94</td>\n",
       "      <td>328.0</td>\n",
       "      <td>5.0</td>\n",
       "      <td>6</td>\n",
       "      <td>1.00</td>\n",
       "      <td>0.00</td>\n",
       "      <td>0.0</td>\n",
       "      <td>0.0</td>\n",
       "      <td>0.0</td>\n",
       "      <td>6.8 x 0.6 x 8.9 inches</td>\n",
       "      <td>1.6 pounds</td>\n",
       "      <td>English</td>\n",
       "      <td>No Starch Press (August 16 2022)</td>\n",
       "      <td>/Recursive-Book-Recursion-Interview-Javascript...</td>\n",
       "      <td>https://www.amazon.com/Recursive-Book-Recursio...</td>\n",
       "    </tr>\n",
       "    <tr>\n",
       "      <th>843</th>\n",
       "      <td>Painless Statistics (Barrons Painless)</td>\n",
       "      <td>[Patrick Honner]</td>\n",
       "      <td>14.99</td>\n",
       "      <td>320.0</td>\n",
       "      <td>5.0</td>\n",
       "      <td>4</td>\n",
       "      <td>1.00</td>\n",
       "      <td>0.00</td>\n",
       "      <td>0.0</td>\n",
       "      <td>0.0</td>\n",
       "      <td>0.0</td>\n",
       "      <td>6 x 0.7 x 9 inches</td>\n",
       "      <td>15.2 ounces</td>\n",
       "      <td>English</td>\n",
       "      <td>In the 1930s Manuel H. Barron opened a bookst...</td>\n",
       "      <td>/Painless-Statistics-Barrons-Patrick-Honner/dp...</td>\n",
       "      <td>https://www.amazon.com/Painless-Statistics-Bar...</td>\n",
       "    </tr>\n",
       "    <tr>\n",
       "      <th>884</th>\n",
       "      <td>Statistics Made Simple for School Leaders: A N...</td>\n",
       "      <td>[Susan Rovezzi Carroll,David J. Carroll]</td>\n",
       "      <td>35.00</td>\n",
       "      <td>140.0</td>\n",
       "      <td>5.0</td>\n",
       "      <td>1</td>\n",
       "      <td>1.00</td>\n",
       "      <td>0.00</td>\n",
       "      <td>0.0</td>\n",
       "      <td>0.0</td>\n",
       "      <td>0.0</td>\n",
       "      <td>6.04 x 0.41 x 8.64 inches</td>\n",
       "      <td>7.7 ounces</td>\n",
       "      <td>English</td>\n",
       "      <td>Rowman &amp; Littlefield Publishers; 3rd edition (...</td>\n",
       "      <td>/Statistics-Made-Simple-School-Leaders/dp/1475...</td>\n",
       "      <td>https://www.amazon.com/Statistics-Made-Simple-...</td>\n",
       "    </tr>\n",
       "    <tr>\n",
       "      <th>938</th>\n",
       "      <td>Even You Can Learn Statistics and Analytics: A...</td>\n",
       "      <td>[David M Levine,David F Stephan]</td>\n",
       "      <td>33.94</td>\n",
       "      <td>392.0</td>\n",
       "      <td>5.0</td>\n",
       "      <td>2</td>\n",
       "      <td>1.00</td>\n",
       "      <td>0.00</td>\n",
       "      <td>0.0</td>\n",
       "      <td>0.0</td>\n",
       "      <td>0.0</td>\n",
       "      <td>7 x 0.89 x 9.13 inches</td>\n",
       "      <td>1.4 pounds</td>\n",
       "      <td>English</td>\n",
       "      <td>Addison-Wesley Professional; 4th edition (May ...</td>\n",
       "      <td>/Even-You-Learn-Statistics-Analytics/dp/013765...</td>\n",
       "      <td>https://www.amazon.com/Even-You-Learn-Statisti...</td>\n",
       "    </tr>\n",
       "  </tbody>\n",
       "</table>\n",
       "<p>70 rows × 17 columns</p>\n",
       "</div>"
      ],
      "text/plain": [
       "                                                 title  \\\n",
       "2    Fundamentals of Data Engineering: Plan and Bui...   \n",
       "22   Effective Data Science Infrastructure: How to ...   \n",
       "27   Be Data Driven: How Organizations Can Harness ...   \n",
       "33   Python for Data Analysis: Data Wrangling with ...   \n",
       "45   Data Science Ethics: Concepts Techniques and C...   \n",
       "..                                                 ...   \n",
       "799  Hands-On Data Preprocessing in Python: Learn h...   \n",
       "817  The Recursive Book of Recursion: Ace the Codin...   \n",
       "843             Painless Statistics (Barrons Painless)   \n",
       "884  Statistics Made Simple for School Leaders: A N...   \n",
       "938  Even You Can Learn Statistics and Analytics: A...   \n",
       "\n",
       "                                       author  price  pages  avg_reviews  \\\n",
       "2                     [Joe Reis,Matt Housley]  50.76  446.0          5.0   \n",
       "22                             [Ville Tuulos]  49.99  352.0          5.0   \n",
       "27                            [Jordan Morrow]  34.99  240.0          5.0   \n",
       "33                             [Wes McKinney]  62.99  579.0          5.0   \n",
       "45                            [David Martens]  37.20  272.0          5.0   \n",
       "..                                        ...    ...    ...          ...   \n",
       "799                              [Roy Jafari]  49.99  602.0          5.0   \n",
       "817                             [Al Sweigart]  36.94  328.0          5.0   \n",
       "843                          [Patrick Honner]  14.99  320.0          5.0   \n",
       "884  [Susan Rovezzi Carroll,David J. Carroll]  35.00  140.0          5.0   \n",
       "938          [David M Levine,David F Stephan]  33.94  392.0          5.0   \n",
       "\n",
       "     n_reviews  star5  star4  star3  star2  star1                 dimensions  \\\n",
       "2           33   0.96   0.04    0.0    0.0    0.0        7 x 1 x 9.25 inches   \n",
       "22           5   1.00   0.00    0.0    0.0    0.0   7.38 x 0.8 x 9.25 inches   \n",
       "27           1   1.00   0.00    0.0    0.0    0.0  6.14 x 0.55 x 9.21 inches   \n",
       "33           1   1.00   0.00    0.0    0.0    0.0     9.1 x 1.2 x 6.9 inches   \n",
       "45           2   1.00   0.00    0.0    0.0    0.0     9.4 x 0.6 x 6.2 inches   \n",
       "..         ...    ...    ...    ...    ...    ...                        ...   \n",
       "799         17   1.00   0.00    0.0    0.0    0.0   7.5 x 1.36 x 9.25 inches   \n",
       "817          6   1.00   0.00    0.0    0.0    0.0     6.8 x 0.6 x 8.9 inches   \n",
       "843          4   1.00   0.00    0.0    0.0    0.0         6 x 0.7 x 9 inches   \n",
       "884          1   1.00   0.00    0.0    0.0    0.0  6.04 x 0.41 x 8.64 inches   \n",
       "938          2   1.00   0.00    0.0    0.0    0.0     7 x 0.89 x 9.13 inches   \n",
       "\n",
       "          weight language                                          publisher  \\\n",
       "2    1.57 pounds  English          OReilly Media; 1st edition (July 26 2022)   \n",
       "22   1.15 pounds  English                           Manning (August 16 2022)   \n",
       "27     12 ounces  English           Kogan Page; 1st edition (August 30 2022)   \n",
       "33   2.07 pounds  English     OReilly Media; 3rd edition (September 20 2022)   \n",
       "45   15.5 ounces  English             Oxford University Press (June 24 2022)   \n",
       "..           ...      ...                                                ...   \n",
       "799  2.25 pounds  English                 Packt Publishing (January 21 2022)   \n",
       "817   1.6 pounds  English                   No Starch Press (August 16 2022)   \n",
       "843  15.2 ounces  English   In the 1930s Manuel H. Barron opened a bookst...   \n",
       "884   7.7 ounces  English  Rowman & Littlefield Publishers; 3rd edition (...   \n",
       "938   1.4 pounds  English  Addison-Wesley Professional; 4th edition (May ...   \n",
       "\n",
       "                                                  link  \\\n",
       "2    /Fundamentals-Data-Engineering-Robust-Systems/...   \n",
       "22   /Effective-Data-Science-Infrastructure-scienti...   \n",
       "27   /Be-Data-Driven-Organizations-Harness/dp/13986...   \n",
       "33   /Python-Data-Analysis-Wrangling-Jupyter/dp/109...   \n",
       "45   /Data-Science-Ethics-Techniques-Cautionary/dp/...   \n",
       "..                                                 ...   \n",
       "799  /gp/slredirect/picassoRedirect.html/ref=pa_sp_...   \n",
       "817  /Recursive-Book-Recursion-Interview-Javascript...   \n",
       "843  /Painless-Statistics-Barrons-Patrick-Honner/dp...   \n",
       "884  /Statistics-Made-Simple-School-Leaders/dp/1475...   \n",
       "938  /Even-You-Learn-Statistics-Analytics/dp/013765...   \n",
       "\n",
       "                                         complete_link  \n",
       "2    https://www.amazon.com/Fundamentals-Data-Engin...  \n",
       "22   https://www.amazon.com/Effective-Data-Science-...  \n",
       "27   https://www.amazon.com/Be-Data-Driven-Organiza...  \n",
       "33   https://www.amazon.com/Python-Data-Analysis-Wr...  \n",
       "45   https://www.amazon.com/Data-Science-Ethics-Tec...  \n",
       "..                                                 ...  \n",
       "799  https://www.amazon.com/gp/slredirect/picassoRe...  \n",
       "817  https://www.amazon.com/Recursive-Book-Recursio...  \n",
       "843  https://www.amazon.com/Painless-Statistics-Bar...  \n",
       "884  https://www.amazon.com/Statistics-Made-Simple-...  \n",
       "938  https://www.amazon.com/Even-You-Learn-Statisti...  \n",
       "\n",
       "[70 rows x 17 columns]"
      ]
     },
     "execution_count": 59,
     "metadata": {},
     "output_type": "execute_result"
    }
   ],
   "source": [
    "df.loc[df['avg_reviews'] == 5.0]"
   ]
  },
  {
   "cell_type": "markdown",
   "id": "edf5082d",
   "metadata": {},
   "source": [
    "#### Tampak ada 70 buku yang memiliki rating 5.0"
   ]
  },
  {
   "cell_type": "code",
   "execution_count": 51,
   "id": "0ee4c752",
   "metadata": {},
   "outputs": [
    {
     "data": {
      "text/plain": [
       "<AxesSubplot:xlabel='avg_reviews', ylabel='count'>"
      ]
     },
     "execution_count": 51,
     "metadata": {},
     "output_type": "execute_result"
    },
    {
     "data": {
      "image/png": "[encoded data removed]",
      "text/plain": [
       "<Figure size 900x500 with 1 Axes>"
      ]
     },
     "metadata": {},
     "output_type": "display_data"
    }
   ],
   "source": [
    "plt.figure(figsize = (9,5))\n",
    "sns.countplot(data=df, x='avg_reviews')"
   ]
  },
  {
   "cell_type": "code",
   "execution_count": 52,
   "id": "0796e9d2",
   "metadata": {},
   "outputs": [
    {
     "data": {
      "text/plain": [
       "<AxesSubplot:xlabel='title', ylabel='avg_reviews'>"
      ]
     },
     "execution_count": 52,
     "metadata": {},
     "output_type": "execute_result"
    },
    {
     "data": {
      "image/png": "[encoded data removed]",
      "text/plain": [
       "<Figure size 1100x600 with 1 Axes>"
      ]
     },
     "metadata": {},
     "output_type": "display_data"
    }
   ],
   "source": [
    "plt.figure(figsize = (11,6))\n",
    "sns.scatterplot(data=df, x='title', y='avg_reviews')"
   ]
  },
  {
   "cell_type": "code",
   "execution_count": 53,
   "id": "b082229e",
   "metadata": {},
   "outputs": [
    {
     "data": {
      "text/plain": [
       "<AxesSubplot:>"
      ]
     },
     "execution_count": 53,
     "metadata": {},
     "output_type": "execute_result"
    },
    {
     "data": {
      "image/png": "[encoded data removed]",
      "text/plain": [
       "<Figure size 1500x800 with 1 Axes>"
      ]
     },
     "metadata": {},
     "output_type": "display_data"
    }
   ],
   "source": [
    "plt.figure(figsize=(15,8))\n",
    "df['avg_reviews'].plot(color = 'orange')"
   ]
  },
  {
   "cell_type": "markdown",
   "id": "490506c9",
   "metadata": {},
   "source": [
    "### Tampak bahwa persebaran terbanyak rating ada di antara 4.0 - 5.0"
   ]
  },
  {
   "cell_type": "code",
   "execution_count": null,
   "id": "2242c55a",
   "metadata": {},
   "outputs": [],
   "source": []
  }
 ],
 "metadata": {
  "kernelspec": {
   "display_name": "Python 3 (ipykernel)",
   "language": "python",
   "name": "python3"
  },
  "language_info": {
   "codemirror_mode": {
    "name": "ipython",
    "version": 3
   },
   "file_extension": ".py",
   "mimetype": "text/x-python",
   "name": "python",
   "nbconvert_exporter": "python",
   "pygments_lexer": "ipython3",
   "version": "3.9.5"
  }
 },
 "nbformat": 4,
 "nbformat_minor": 5
}
